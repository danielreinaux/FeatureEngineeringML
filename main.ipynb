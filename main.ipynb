{
  "nbformat": 4,
  "nbformat_minor": 0,
  "metadata": {
    "colab": {
      "provenance": [],
      "authorship_tag": "ABX9TyPPFSLjU4IiOtQAIFdHCGfh",
      "include_colab_link": true
    },
    "kernelspec": {
      "name": "python3",
      "display_name": "Python 3"
    },
    "language_info": {
      "name": "python"
    }
  },
  "cells": [
    {
      "cell_type": "markdown",
      "metadata": {
        "id": "view-in-github",
        "colab_type": "text"
      },
      "source": [
        "<a href=\"https://colab.research.google.com/github/danielreinaux/FeatureEngineeringML/blob/main/main.ipynb\" target=\"_parent\"><img src=\"https://colab.research.google.com/assets/colab-badge.svg\" alt=\"Open In Colab\"/></a>"
      ]
    },
    {
      "cell_type": "markdown",
      "source": [
        "## Feature Engineering:\n",
        "\n",
        "No nosso projeto, temos duas bases:\n",
        "* Base de Churn, com informações cadastrais de 1000 pessoas\n",
        "* Base de Transaições, contendo as transações históricas de compras feitas por essas pessoas, incluindo detalhes como data da compra, valor gasto e categoria do produto\n",
        "\n",
        "A ideia é estar criando variáveis explicativas, processo fundamental na Engenharia e Ciência de Dados, para melhorar nosso estudo de algoritmos."
      ],
      "metadata": {
        "id": "LsvSwm573Psg"
      }
    },
    {
      "cell_type": "markdown",
      "source": [
        "### 1. Inicializando o PySpark:"
      ],
      "metadata": {
        "id": "FnbczbQZ4Dxz"
      }
    },
    {
      "cell_type": "code",
      "source": [
        "!apt-get install openjdk-8-jdk-headless -qq > /dev/null\n",
        "!wget -q https://archive.apache.org/dist/spark/spark-3.1.2/spark-3.1.2-bin-hadoop3.2.tgz\n",
        "!tar xf spark-3.1.2-bin-hadoop3.2.tgz\n",
        "!pip install -q findspark\n"
      ],
      "metadata": {
        "id": "QCx_xlGn4IzU"
      },
      "execution_count": 1,
      "outputs": []
    },
    {
      "cell_type": "code",
      "source": [
        "import os\n",
        "os.environ[\"JAVA_HOME\"] = \"/usr/lib/jvm/java-8-openjdk-amd64\"\n",
        "os.environ[\"SPARK_HOME\"] = \"/content/spark-3.1.2-bin-hadoop3.2\"\n",
        "\n",
        "import findspark\n",
        "findspark.init()\n",
        "from pyspark.sql import SparkSession\n",
        "spark = SparkSession.builder.master(\"local[*]\").getOrCreate()"
      ],
      "metadata": {
        "id": "14TtAG_z4M7c"
      },
      "execution_count": 2,
      "outputs": []
    },
    {
      "cell_type": "markdown",
      "source": [
        "# 2. Informações iniciais\n",
        "\n",
        "Nesse pontoe estaremos trazendo informações básicas das duas tabelas, e entendendo o número de colunas, o tipo e etc.\n",
        "\n",
        "Análise fundamental para o começo da criação das variáveis explicativas"
      ],
      "metadata": {
        "id": "9VfLZCoy4lNc"
      }
    },
    {
      "cell_type": "code",
      "source": [
        "df_transacoes = spark.read.csv('/content/base_transacoes.csv', header=True, inferSchema = True)\n",
        "\n",
        "df_transacoes.createOrReplaceTempView('df_transacoes')"
      ],
      "metadata": {
        "id": "nkX8THPX40le"
      },
      "execution_count": 3,
      "outputs": []
    },
    {
      "cell_type": "code",
      "source": [
        "df_publico = spark.read.csv('/content/base_churn.csv', header=True, inferSchema = True)\n",
        "\n",
        "df_publico.createOrReplaceTempView('df_publico')"
      ],
      "metadata": {
        "id": "FezgM-YC5MaU"
      },
      "execution_count": 4,
      "outputs": []
    },
    {
      "cell_type": "markdown",
      "source": [
        "### 2.1 Vendo Schemas:\n",
        "Isso nos possibilita ver as colunas das bases, entendendo também o tipo de cada coluna"
      ],
      "metadata": {
        "id": "0WRySf8c5VHk"
      }
    },
    {
      "cell_type": "code",
      "source": [
        "df_transacoes.printSchema()"
      ],
      "metadata": {
        "colab": {
          "base_uri": "https://localhost:8080/"
        },
        "id": "RpDNGUvw5UhN",
        "outputId": "81521114-304e-48e2-a31a-d865eaa9d372"
      },
      "execution_count": 5,
      "outputs": [
        {
          "output_type": "stream",
          "name": "stdout",
          "text": [
            "root\n",
            " |-- ID Transação: integer (nullable = true)\n",
            " |-- ID Cliente: integer (nullable = true)\n",
            " |-- Data: string (nullable = true)\n",
            " |-- Valor: double (nullable = true)\n",
            " |-- Categoria: string (nullable = true)\n",
            "\n"
          ]
        }
      ]
    },
    {
      "cell_type": "code",
      "source": [
        "df_publico.printSchema()"
      ],
      "metadata": {
        "colab": {
          "base_uri": "https://localhost:8080/"
        },
        "id": "-slF4zEJ5e_c",
        "outputId": "9fd34118-cec5-4aad-af63-f4e4545160b2"
      },
      "execution_count": 6,
      "outputs": [
        {
          "output_type": "stream",
          "name": "stdout",
          "text": [
            "root\n",
            " |-- ID: integer (nullable = true)\n",
            " |-- Idade: integer (nullable = true)\n",
            " |-- Gênero: string (nullable = true)\n",
            " |-- Dias desde a Inscrição: integer (nullable = true)\n",
            " |-- Usou Suporte: integer (nullable = true)\n",
            " |-- Plano: string (nullable = true)\n",
            " |-- Churn: integer (nullable = true)\n",
            "\n"
          ]
        }
      ]
    },
    {
      "cell_type": "code",
      "source": [
        "df_transacoes.show(10, False)"
      ],
      "metadata": {
        "colab": {
          "base_uri": "https://localhost:8080/"
        },
        "id": "yL0UGHYe5jP3",
        "outputId": "27fbf9ba-d72c-49cd-f1e4-73d5df5ec24d"
      },
      "execution_count": 7,
      "outputs": [
        {
          "output_type": "stream",
          "name": "stdout",
          "text": [
            "+------------+----------+-----------------------------+------------------+-----------+\n",
            "|ID Transação|ID Cliente|Data                         |Valor             |Categoria  |\n",
            "+------------+----------+-----------------------------+------------------+-----------+\n",
            "|1           |1         |2022-11-25 13:50:26.548672560|57.287427536330505|Esportes   |\n",
            "|2           |1         |2020-01-19 12:27:36.637168141|97.07199340552512 |Alimentos  |\n",
            "|3           |1         |2021-12-28 12:33:58.938053096|169.10581012381087|Livros     |\n",
            "|4           |1         |2022-02-05 01:39:49.380530968|199.38694865538451|Roupas     |\n",
            "|5           |1         |2022-11-16 23:06:54.159292032|160.00228343317622|Eletrônicos|\n",
            "|6           |1         |2020-04-25 12:42:28.672566372|9.842481270765422 |Alimentos  |\n",
            "|7           |1         |2022-10-31 22:05:18.584070800|76.90706330227667 |Eletrônicos|\n",
            "|8           |1         |2020-10-06 12:14:52.035398228|53.20607404593595 |Roupas     |\n",
            "|9           |1         |2022-11-02 12:50:58.407079648|193.00568791656067|Livros     |\n",
            "|10          |1         |2020-09-06 21:37:41.946902652|56.524638713138636|Alimentos  |\n",
            "+------------+----------+-----------------------------+------------------+-----------+\n",
            "only showing top 10 rows\n",
            "\n"
          ]
        }
      ]
    },
    {
      "cell_type": "code",
      "source": [
        "df_publico.show()"
      ],
      "metadata": {
        "colab": {
          "base_uri": "https://localhost:8080/"
        },
        "id": "B-9QUrAs5tfw",
        "outputId": "4a720a05-2ef8-47ce-d8d1-862eb191e9f7"
      },
      "execution_count": 8,
      "outputs": [
        {
          "output_type": "stream",
          "name": "stdout",
          "text": [
            "+---+-----+------+----------------------+------------+-------------+-----+\n",
            "| ID|Idade|Gênero|Dias desde a Inscrição|Usou Suporte|        Plano|Churn|\n",
            "+---+-----+------+----------------------+------------+-------------+-----+\n",
            "|  1|   21|     F|                  1331|           1|Intermediário|    1|\n",
            "|  2|   21|     M|                  1160|           0|Intermediário|    0|\n",
            "|  3|   62|     M|                   454|           1|       Básico|    0|\n",
            "|  4|   64|     M|                   226|           1|Intermediário|    0|\n",
            "|  5|   61|     M|                   474|           1|     Avançado|    0|\n",
            "|  6|   18|     M|                   419|           0|       Básico|    0|\n",
            "|  7|   52|     M|                  1334|           0|       Básico|    0|\n",
            "|  8|   44|     M|                  1124|           1|Intermediário|    0|\n",
            "|  9|   52|     M|                  1256|           1|Intermediário|    0|\n",
            "| 10|   64|     F|                  1197|           0|       Básico|    0|\n",
            "| 11|   50|     F|                  1820|           1|Intermediário|    0|\n",
            "| 12|   46|     F|                   550|           0|     Avançado|    0|\n",
            "| 13|   65|     M|                  1466|           0|     Avançado|    0|\n",
            "| 14|   33|     M|                  1507|           0|     Avançado|    0|\n",
            "| 15|   19|     F|                  1292|           1|     Avançado|    1|\n",
            "| 16|   22|     F|                  1514|           0|       Básico|    1|\n",
            "| 17|   38|     F|                  1483|           0|Intermediário|    1|\n",
            "| 18|   44|     F|                    32|           0|Intermediário|    0|\n",
            "| 19|   68|     F|                  1203|           1|     Avançado|    1|\n",
            "| 20|   35|     F|                  1157|           1|     Avançado|    1|\n",
            "+---+-----+------+----------------------+------------+-------------+-----+\n",
            "only showing top 20 rows\n",
            "\n"
          ]
        }
      ]
    },
    {
      "cell_type": "markdown",
      "source": [
        "# 3 Análise Inicial"
      ],
      "metadata": {
        "id": "VB4XBNuS57eJ"
      }
    },
    {
      "cell_type": "markdown",
      "source": [
        "Nessa etapa, estaremos fazendo consultas simples, nos ajudando a trazer contexto as tabelas"
      ],
      "metadata": {
        "id": "Vk5k8IAX7gYg"
      }
    },
    {
      "cell_type": "markdown",
      "source": [
        "### 3.1 Contagem de Transações por Cliente\n",
        "\n",
        "Veremos quantas transações cada cliente realizou. Isso nos ajudará a identificar clientes mais ativos"
      ],
      "metadata": {
        "id": "6tcvmq-r9Dg8"
      }
    },
    {
      "cell_type": "code",
      "source": [
        "df_qtd_transacoes = spark.sql(\"\"\"\n",
        "SELECT `ID Cliente`, COUNT(*) as QTD_TRANSACOES\n",
        "from df_transacoes\n",
        "group by `ID Cliente`\n",
        "order by QTD_TRANSACOES DESC\n",
        "\"\"\")\n",
        "\n",
        "df_qtd_transacoes.createOrReplaceTempView('df_qtd_transacoes')"
      ],
      "metadata": {
        "id": "JVR7uUSU51AG"
      },
      "execution_count": 40,
      "outputs": []
    },
    {
      "cell_type": "code",
      "source": [
        "df_qtd_transacoes.show()"
      ],
      "metadata": {
        "colab": {
          "base_uri": "https://localhost:8080/"
        },
        "id": "Lc61zXOz9L76",
        "outputId": "d76bcab4-9cce-4251-fb29-d9be121487c3"
      },
      "execution_count": 41,
      "outputs": [
        {
          "output_type": "stream",
          "name": "stdout",
          "text": [
            "+----------+--------------+\n",
            "|ID Cliente|QTD_TRANSACOES|\n",
            "+----------+--------------+\n",
            "|       959|            19|\n",
            "|       852|            19|\n",
            "|       235|            19|\n",
            "|       715|            19|\n",
            "|       699|            19|\n",
            "|       966|            19|\n",
            "|       120|            19|\n",
            "|       246|            19|\n",
            "|       797|            19|\n",
            "|       689|            19|\n",
            "|       861|            19|\n",
            "|       225|            19|\n",
            "|       111|            19|\n",
            "|       844|            19|\n",
            "|       919|            19|\n",
            "|       822|            19|\n",
            "|       580|            19|\n",
            "|       253|            19|\n",
            "|       950|            19|\n",
            "|        53|            19|\n",
            "+----------+--------------+\n",
            "only showing top 20 rows\n",
            "\n"
          ]
        }
      ]
    },
    {
      "cell_type": "markdown",
      "source": [
        "### 3.2 Valor Médio das Transações por Clientes\n",
        "\n",
        "Isso ajudará a entender o ocmportamento de compra dos clientes"
      ],
      "metadata": {
        "id": "-nDcI6yY9qFG"
      }
    },
    {
      "cell_type": "code",
      "source": [
        "vl_med_tras = spark.sql(\"\"\"\n",
        "SELECT `ID Cliente`, ROUND(AVG(Valor), 2) as VL_MED_TRANSACOES\n",
        "from df_transacoes\n",
        "group by `ID Cliente`\n",
        "\"\"\")\n",
        "\n",
        "vl_med_tras.createOrReplaceTempView('vl_med_tras')\n",
        "\n",
        "vl_med_tras.show()"
      ],
      "metadata": {
        "colab": {
          "base_uri": "https://localhost:8080/"
        },
        "id": "QsG2Afu39s_7",
        "outputId": "2db981d6-9e39-4a28-ede0-237c03b4ee8f"
      },
      "execution_count": 42,
      "outputs": [
        {
          "output_type": "stream",
          "name": "stdout",
          "text": [
            "+----------+-----------------+\n",
            "|ID Cliente|VL_MED_TRANSACOES|\n",
            "+----------+-----------------+\n",
            "|       148|            98.22|\n",
            "|       463|            93.29|\n",
            "|       471|           135.73|\n",
            "|       496|            85.31|\n",
            "|       833|           101.95|\n",
            "|       243|            98.88|\n",
            "|       392|            114.6|\n",
            "|       540|            92.87|\n",
            "|       623|            93.95|\n",
            "|       737|           105.95|\n",
            "|       858|            129.1|\n",
            "|       897|            88.58|\n",
            "|        31|           102.14|\n",
            "|       516|           136.59|\n",
            "|        85|            65.46|\n",
            "|       137|           118.51|\n",
            "|       251|            88.28|\n",
            "|       451|            114.2|\n",
            "|       580|           103.75|\n",
            "|       808|           100.19|\n",
            "+----------+-----------------+\n",
            "only showing top 20 rows\n",
            "\n"
          ]
        }
      ]
    },
    {
      "cell_type": "markdown",
      "source": [
        "### 3.3 Valor médio das transações por categoria"
      ],
      "metadata": {
        "id": "ibyBU_4h-j9J"
      }
    },
    {
      "cell_type": "code",
      "source": [
        "vl_med_tras_cat = spark.sql(\"\"\"\n",
        "SELECT Categoria, ROUND(AVG(VALOR), 2) as VL_MED_CATEGORIA\n",
        "from df_transacoes\n",
        "group by Categoria\n",
        "\"\"\")\n",
        "\n",
        "vl_med_tras_cat.createOrReplaceTempView('vl_med_tras_cat')\n",
        "\n",
        "vl_med_tras_cat.show()"
      ],
      "metadata": {
        "colab": {
          "base_uri": "https://localhost:8080/"
        },
        "id": "Bgtgo73d-onK",
        "outputId": "ec9ea5a6-9245-4560-83c6-c3efb1327c84"
      },
      "execution_count": 43,
      "outputs": [
        {
          "output_type": "stream",
          "name": "stdout",
          "text": [
            "+-----------+----------------+\n",
            "|  Categoria|VL_MED_CATEGORIA|\n",
            "+-----------+----------------+\n",
            "|     Livros|          105.34|\n",
            "|Eletrônicos|          101.27|\n",
            "|  Alimentos|          104.43|\n",
            "|   Esportes|          101.98|\n",
            "|     Roupas|          100.32|\n",
            "+-----------+----------------+\n",
            "\n"
          ]
        }
      ]
    },
    {
      "cell_type": "markdown",
      "source": [
        "#4. Criando Variáveis Explicativas"
      ],
      "metadata": {
        "id": "-2eipbOG_w2y"
      }
    },
    {
      "cell_type": "markdown",
      "source": [
        "### 4.1 Data da última Transação:"
      ],
      "metadata": {
        "id": "khtYX-8cGgBn"
      }
    },
    {
      "cell_type": "code",
      "source": [
        "df_ult_tras = spark.sql(\"\"\"\n",
        "SELECT `ID Cliente`, DATEDIFF(current_date(), MAX(DATA)) as ULTIMA_TRANSACAO_EM_DIAS\n",
        "FROM df_transacoes\n",
        "group by `ID Cliente`\n",
        "\"\"\")\n",
        "\n",
        "df_ult_tras.createOrReplaceTempView('df_ult_tras')\n",
        "\n",
        "df_ult_tras.show()"
      ],
      "metadata": {
        "colab": {
          "base_uri": "https://localhost:8080/"
        },
        "id": "hVSjCZopCWTY",
        "outputId": "6d8c91ef-9692-4339-e89b-d073514bade5"
      },
      "execution_count": 44,
      "outputs": [
        {
          "output_type": "stream",
          "name": "stdout",
          "text": [
            "+----------+------------------------+\n",
            "|ID Cliente|ULTIMA_TRANSACAO_EM_DIAS|\n",
            "+----------+------------------------+\n",
            "|       148|                     569|\n",
            "|       463|                     594|\n",
            "|       471|                     557|\n",
            "|       496|                    1030|\n",
            "|       833|                     718|\n",
            "|       243|                     722|\n",
            "|       392|                     564|\n",
            "|       540|                     547|\n",
            "|       623|                     683|\n",
            "|       737|                     663|\n",
            "|       858|                    1405|\n",
            "|       897|                     613|\n",
            "|        31|                     573|\n",
            "|       516|                    1446|\n",
            "|        85|                     554|\n",
            "|       137|                     561|\n",
            "|       251|                     801|\n",
            "|       451|                     608|\n",
            "|       580|                     582|\n",
            "|       808|                     558|\n",
            "+----------+------------------------+\n",
            "only showing top 20 rows\n",
            "\n"
          ]
        }
      ]
    },
    {
      "cell_type": "markdown",
      "source": [
        "### 4.2 Frequência de Compra:\n",
        "\n",
        "Quantidade de compras que o cliente fez, dividida pelo número de meses desde sua inscrição:"
      ],
      "metadata": {
        "id": "ZykyOqvkGrlj"
      }
    },
    {
      "cell_type": "code",
      "source": [
        "df_freq_compra_mensal = spark.sql(\"\"\"\n",
        "SELECT `ID Cliente`, (COUNT(*) / (p.`Dias desde a Inscrição`/ 30)) as FREQ_COMPRA_MENSAL\n",
        "FROM\n",
        "  df_transacoes as t\n",
        "LEFT JOIN\n",
        "  df_publico as p\n",
        "on\n",
        "  t.`ID Cliente` = p.`ID`\n",
        "\n",
        "GROUP BY t.`ID Cliente`, p.`Dias desde a Inscrição`\n",
        "\n",
        "\"\"\")\n",
        "\n",
        "df_freq_compra_mensal.createOrReplaceTempView('df_freq_compra_mensal')\n",
        "\n",
        "df_freq_compra_mensal.show()"
      ],
      "metadata": {
        "colab": {
          "base_uri": "https://localhost:8080/"
        },
        "id": "yvCtUogcHHD4",
        "outputId": "f653d1db-81ec-4e51-c8d4-328d3b95e23e"
      },
      "execution_count": 46,
      "outputs": [
        {
          "output_type": "stream",
          "name": "stdout",
          "text": [
            "+----------+--------------------+\n",
            "|ID Cliente|  FREQ_COMPRA_MENSAL|\n",
            "+----------+--------------------+\n",
            "|       594| 0.06569343065693431|\n",
            "|       327|  0.8042895442359249|\n",
            "|       627|  0.1748704663212435|\n",
            "|       692|  2.7127659574468086|\n",
            "|       204| 0.08995502248875561|\n",
            "|       728|  0.6060606060606061|\n",
            "|       361|  0.7090103397341211|\n",
            "|        57| 0.11335012594458439|\n",
            "|       283| 0.22751895991332613|\n",
            "|       615|  1.3255813953488371|\n",
            "|       709|  0.0494641384995878|\n",
            "|       900| 0.07042253521126761|\n",
            "|       926|  0.1868629671574179|\n",
            "|       942|  1.0169491525423728|\n",
            "|        14|0.059721300597213006|\n",
            "|        42|  0.4113924050632911|\n",
            "|       225|  1.5489130434782608|\n",
            "|       330| 0.27892561983471076|\n",
            "|       562| 0.11406844106463877|\n",
            "|       786|  0.4444444444444444|\n",
            "+----------+--------------------+\n",
            "only showing top 20 rows\n",
            "\n"
          ]
        }
      ]
    },
    {
      "cell_type": "markdown",
      "source": [
        "### 4.3 Total Gasto\n",
        "\n",
        "Soma de todos os valores gastos pelo cliente em todas as suas transações"
      ],
      "metadata": {
        "id": "9UplYMcykFBy"
      }
    },
    {
      "cell_type": "code",
      "source": [
        "df_total_gasto = spark.sql(\"\"\"\n",
        "SELECT `ID Cliente`, ROUND(SUM(Valor),2) as VALOR_TOTAL_GASTO\n",
        "FROM df_transacoes\n",
        "GROUP BY `ID Cliente`\n",
        "ORDER BY `VALOR_TOTAL_GASTO` DESC\n",
        "\"\"\")\n",
        "\n",
        "df_total_gasto.createOrReplaceTempView('df_total_gasto')\n",
        "\n",
        "df_total_gasto.show()"
      ],
      "metadata": {
        "id": "QeRjmI5pJTBy",
        "colab": {
          "base_uri": "https://localhost:8080/"
        },
        "outputId": "e771bf2e-1295-4b38-b0e6-990b86c6fadb"
      },
      "execution_count": 47,
      "outputs": [
        {
          "output_type": "stream",
          "name": "stdout",
          "text": [
            "+----------+-----------------+\n",
            "|ID Cliente|VALOR_TOTAL_GASTO|\n",
            "+----------+-----------------+\n",
            "|       759|          2498.27|\n",
            "|       910|          2370.01|\n",
            "|       470|          2361.46|\n",
            "|       718|          2347.81|\n",
            "|       983|          2346.24|\n",
            "|       692|          2329.25|\n",
            "|       471|          2307.39|\n",
            "|       407|          2297.79|\n",
            "|       685|          2283.31|\n",
            "|       699|          2278.31|\n",
            "|       668|          2269.66|\n",
            "|       246|          2261.08|\n",
            "|       167|          2255.57|\n",
            "|       162|          2254.72|\n",
            "|       917|          2232.73|\n",
            "|       861|          2229.12|\n",
            "|       480|          2193.45|\n",
            "|       506|          2185.63|\n",
            "|       794|           2185.2|\n",
            "|       630|          2171.44|\n",
            "+----------+-----------------+\n",
            "only showing top 20 rows\n",
            "\n"
          ]
        }
      ]
    },
    {
      "cell_type": "markdown",
      "source": [
        "### 4.4 Categoria Favorita:\n",
        "Categoria de produto em que o cliente gastou a maior quantia\n",
        "\n",
        "1. Primeiro faremos o valor gasto em cada uma das Categorias, por pessoa:"
      ],
      "metadata": {
        "id": "v25uD8rKkKeK"
      }
    },
    {
      "cell_type": "code",
      "source": [
        "df_temp = spark.sql(\"\"\"\n",
        "SELECT `ID Cliente`,\n",
        "    round(sum(case when Categoria = 'Esportes' then Valor else 0 end), 2) as VL_TOT_ESPORTES,\n",
        "    round(sum(case when Categoria = 'Roupas' then Valor else 0 end), 2) as VL_TOT_ROUPAS,\n",
        "    round(sum(case when Categoria = 'Livros' then Valor else 0 end), 2) as VL_TOT_LIVROS,\n",
        "    round(sum(case when Categoria = 'Eletrônicos' then Valor else 0 end), 2) as VL_TOT_ELETRONICOS,\n",
        "    round(sum(case when Categoria = 'Alimentos' then Valor else 0 end), 2) as VL_TOT_ALIMENTOS\n",
        "FROM df_transacoes\n",
        "GROUP BY `ID Cliente`\n",
        "ORDER BY `ID Cliente`\n",
        "\"\"\")\n",
        "df_temp.createOrReplaceTempView(\"df_temp\")"
      ],
      "metadata": {
        "id": "Oq3ZAZX3kQAo"
      },
      "execution_count": 48,
      "outputs": []
    },
    {
      "cell_type": "code",
      "source": [
        "df_temp.show()"
      ],
      "metadata": {
        "colab": {
          "base_uri": "https://localhost:8080/"
        },
        "id": "SZd5Y2Fep46e",
        "outputId": "17aec137-6f97-4f35-afbc-3d4f810a426d"
      },
      "execution_count": 16,
      "outputs": [
        {
          "output_type": "stream",
          "name": "stdout",
          "text": [
            "+----------+---------------+-------------+-------------+------------------+----------------+\n",
            "|ID Cliente|VL_TOT_ESPORTES|VL_TOT_ROUPAS|VL_TOT_LIVROS|VL_TOT_ELETRONICOS|VL_TOT_ALIMENTOS|\n",
            "+----------+---------------+-------------+-------------+------------------+----------------+\n",
            "|         1|         226.73|       450.79|       551.06|            396.72|          351.26|\n",
            "|         2|         275.47|          0.0|       340.59|            292.16|          109.58|\n",
            "|         3|         327.09|          0.0|       105.81|            317.38|          247.52|\n",
            "|         4|         199.35|       367.89|        48.18|            291.16|          103.19|\n",
            "|         5|         436.01|       303.13|        16.25|            707.41|          292.37|\n",
            "|         6|         395.05|       499.17|       371.56|            202.33|          373.42|\n",
            "|         7|          137.2|       227.68|       463.88|            572.15|          270.44|\n",
            "|         8|         150.17|       118.38|        69.79|            388.75|          113.95|\n",
            "|         9|         286.48|       229.77|       330.45|               0.0|          172.42|\n",
            "|        10|            0.0|        69.93|        15.92|             144.9|          185.66|\n",
            "|        11|          29.06|       419.34|        70.41|               0.0|          384.31|\n",
            "|        12|            0.0|       181.71|          0.0|            168.55|           39.81|\n",
            "|        13|          55.81|        71.18|       398.88|             96.98|           149.7|\n",
            "|        14|            0.0|        13.86|          0.0|            178.82|             0.0|\n",
            "|        15|            0.0|          0.0|          0.0|            158.84|             0.0|\n",
            "|        16|         372.95|       142.44|       767.07|            153.97|           46.54|\n",
            "|        17|         318.53|       131.42|       291.45|             207.5|           56.55|\n",
            "|        18|            0.0|          0.0|       207.08|               0.0|           77.69|\n",
            "|        19|         220.42|       189.98|       185.42|             194.6|             0.0|\n",
            "|        20|         476.36|        65.73|        71.01|             92.75|          273.51|\n",
            "+----------+---------------+-------------+-------------+------------------+----------------+\n",
            "only showing top 20 rows\n",
            "\n"
          ]
        }
      ]
    },
    {
      "cell_type": "markdown",
      "source": [
        "Agora faremos a comparação entre cada Categoria, para definir qual a categoria favorita. Para isso, faremos:\n",
        "\n",
        "* Transformação das Colunas em Linhas, com o 'UNION ALL':\n",
        "  - Nesse caso, vamos converter valroes de diferentes categorias em linhas separadas para facilitar a comparação\n",
        "\n",
        "* Classificação e Numeração com 'ROW_NUMBER()'\n",
        "  - Objetivo: Atribuir um número de linha a cada categoria por cliente, ordenando pelo valor total gasto"
      ],
      "metadata": {
        "id": "BqfucPejnAS8"
      }
    },
    {
      "cell_type": "code",
      "source": [
        "df_favorita = spark.sql(\"\"\"\n",
        "SELECT `ID Cliente`, Categoria as Categoria_Favorita\n",
        "FROM (\n",
        "    SELECT `ID Cliente`, Categoria, Valor_Total,\n",
        "           ROW_NUMBER() OVER (PARTITION BY `ID Cliente` ORDER BY Valor_Total DESC) as rn\n",
        "    FROM (\n",
        "        SELECT `ID Cliente`, 'Esportes' as Categoria, VL_TOT_ESPORTES as Valor_Total FROM df_temp\n",
        "        UNION ALL\n",
        "        SELECT `ID Cliente`, 'Roupas' as Categoria, VL_TOT_ROUPAS as Valor_Total FROM df_temp\n",
        "        UNION ALL\n",
        "        SELECT `ID Cliente`, 'Livros' as Categoria, VL_TOT_LIVROS as Valor_Total FROM df_temp\n",
        "        UNION ALL\n",
        "        SELECT `ID Cliente`, 'Eletrônicos' as Categoria, VL_TOT_ELETRONICOS as Valor_Total FROM df_temp\n",
        "        UNION ALL\n",
        "        SELECT `ID Cliente`, 'Alimentos' as Categoria, VL_TOT_ALIMENTOS as Valor_Total FROM df_temp\n",
        "    ) t\n",
        ") ranked\n",
        "WHERE rn = 1\n",
        "\"\"\")\n",
        "\n",
        "df_favorita.createOrReplaceTempView('df_favorita')\n",
        "\n",
        "\n",
        "df_favorita.show(truncate=False)\n"
      ],
      "metadata": {
        "colab": {
          "base_uri": "https://localhost:8080/"
        },
        "id": "jKqSQAvEm_tj",
        "outputId": "df5dd708-358f-447a-a628-9b3f96ed62cb"
      },
      "execution_count": 49,
      "outputs": [
        {
          "output_type": "stream",
          "name": "stdout",
          "text": [
            "+----------+------------------+\n",
            "|ID Cliente|Categoria_Favorita|\n",
            "+----------+------------------+\n",
            "|148       |Alimentos         |\n",
            "|463       |Roupas            |\n",
            "|471       |Roupas            |\n",
            "|496       |Roupas            |\n",
            "|833       |Livros            |\n",
            "|243       |Eletrônicos       |\n",
            "|392       |Roupas            |\n",
            "|540       |Esportes          |\n",
            "|623       |Roupas            |\n",
            "|737       |Eletrônicos       |\n",
            "|858       |Roupas            |\n",
            "|897       |Alimentos         |\n",
            "|31        |Livros            |\n",
            "|516       |Roupas            |\n",
            "|85        |Livros            |\n",
            "|137       |Roupas            |\n",
            "|251       |Esportes          |\n",
            "|451       |Livros            |\n",
            "|580       |Esportes          |\n",
            "|808       |Eletrônicos       |\n",
            "+----------+------------------+\n",
            "only showing top 20 rows\n",
            "\n"
          ]
        }
      ]
    },
    {
      "cell_type": "markdown",
      "source": [
        "###4.5 Gasto Médio por Transação:\n",
        "Toal gasto dividido pelo número total de transações:\n"
      ],
      "metadata": {
        "id": "SbjuREapsQUk"
      }
    },
    {
      "cell_type": "code",
      "source": [
        "df_gasto_medio_tras = spark.sql(\"\"\"\n",
        "SELECT `ID Cliente`,\n",
        "    ROUND(SUM(VALOR) / COUNT(*), 2) as VALOR_TOTAL_POR_TRANS\n",
        "FROM df_transacoes\n",
        "GROUP BY `ID Cliente`\n",
        "\"\"\")\n",
        "\n",
        "df_gasto_medio_tras.createOrReplaceTempView('df_gasto_medio_tras')\n",
        "\n",
        "df_gasto_medio_tras.show()"
      ],
      "metadata": {
        "colab": {
          "base_uri": "https://localhost:8080/"
        },
        "id": "oKg3EgnQsW_s",
        "outputId": "37a86774-4d71-4300-845e-0eec0aecf2a7"
      },
      "execution_count": 50,
      "outputs": [
        {
          "output_type": "stream",
          "name": "stdout",
          "text": [
            "+----------+---------------------+\n",
            "|ID Cliente|VALOR_TOTAL_POR_TRANS|\n",
            "+----------+---------------------+\n",
            "|       148|                98.22|\n",
            "|       463|                93.29|\n",
            "|       471|               135.73|\n",
            "|       496|                85.31|\n",
            "|       833|               101.95|\n",
            "|       243|                98.88|\n",
            "|       392|                114.6|\n",
            "|       540|                92.87|\n",
            "|       623|                93.95|\n",
            "|       737|               105.95|\n",
            "|       858|                129.1|\n",
            "|       897|                88.58|\n",
            "|        31|               102.14|\n",
            "|       516|               136.59|\n",
            "|        85|                65.46|\n",
            "|       137|               118.51|\n",
            "|       251|                88.28|\n",
            "|       451|                114.2|\n",
            "|       580|               103.75|\n",
            "|       808|               100.19|\n",
            "+----------+---------------------+\n",
            "only showing top 20 rows\n",
            "\n"
          ]
        }
      ]
    },
    {
      "cell_type": "markdown",
      "source": [
        "### 4.6 Duração de Assinatura\n",
        "\n",
        "Números de dias desde que o cliente se inscreceu, até a data mais recente no conjunto de dados.\n",
        "\n",
        "Para esse, precisaremos de:\n",
        "- Data em que o cliente se inscreveu (temos na df_publico)\n",
        "- A última transação do cliente"
      ],
      "metadata": {
        "id": "baR8m0XQuais"
      }
    },
    {
      "cell_type": "markdown",
      "source": [
        "Pegando a última transação do Cliente:"
      ],
      "metadata": {
        "id": "0Wx9zF0ZAtKM"
      }
    },
    {
      "cell_type": "code",
      "source": [
        "df_dt_max = spark.sql(\"\"\"\n",
        "SELECT `ID Cliente`, date_format(MAX(DATA), 'yyyy-MM-dd HH:mm') as DATA_ULTIMA_TRANSACAO\n",
        "from df_transacoes\n",
        "GROUP BY `ID Cliente`\n",
        "ORDER BY `ID Cliente`\n",
        "\"\"\")\n",
        "\n",
        "df_dt_max.createOrReplaceTempView(\"df_dt_max\")"
      ],
      "metadata": {
        "id": "WRhgMfsGugbF"
      },
      "execution_count": 19,
      "outputs": []
    },
    {
      "cell_type": "code",
      "source": [
        "df_dt_max.show()"
      ],
      "metadata": {
        "colab": {
          "base_uri": "https://localhost:8080/"
        },
        "id": "tpgSr2BfD4ax",
        "outputId": "c180dd8a-452f-4a32-84c3-188903cf0486"
      },
      "execution_count": 20,
      "outputs": [
        {
          "output_type": "stream",
          "name": "stdout",
          "text": [
            "+----------+---------------------+\n",
            "|ID Cliente|DATA_ULTIMA_TRANSACAO|\n",
            "+----------+---------------------+\n",
            "|         1|     2022-12-18 22:35|\n",
            "|         2|     2021-12-07 02:20|\n",
            "|         3|     2022-11-21 11:38|\n",
            "|         4|     2022-12-12 14:07|\n",
            "|         5|     2022-12-22 06:41|\n",
            "|         6|     2022-09-06 03:32|\n",
            "|         7|     2022-09-19 14:32|\n",
            "|         8|     2022-09-18 10:07|\n",
            "|         9|     2022-08-30 08:44|\n",
            "|        10|     2022-10-01 08:12|\n",
            "|        11|     2022-08-18 09:54|\n",
            "|        12|     2022-06-02 10:18|\n",
            "|        13|     2022-10-17 09:14|\n",
            "|        14|     2021-08-18 12:29|\n",
            "|        15|     2021-08-26 16:53|\n",
            "|        16|     2022-10-19 15:30|\n",
            "|        17|     2022-11-13 09:50|\n",
            "|        18|     2022-10-21 14:01|\n",
            "|        19|     2022-06-15 16:08|\n",
            "|        20|     2022-09-22 22:39|\n",
            "+----------+---------------------+\n",
            "only showing top 20 rows\n",
            "\n"
          ]
        }
      ]
    },
    {
      "cell_type": "markdown",
      "source": [
        "Visto que Dias desde a inscrição considera apenas dias, transformaremos a coluna de Dias desde a inscrição no formato Data.\n",
        "Para isso, faremos a 'adição' com o dia de hoje"
      ],
      "metadata": {
        "id": "QUcjf1MBEbuc"
      }
    },
    {
      "cell_type": "code",
      "source": [
        "df_publico = spark.sql(\"\"\"\n",
        "SELECT ID, `Dias desde a Inscrição`,\n",
        "       date_add(current_date(), -`Dias desde a Inscrição`) as DATA_INSCRICAO\n",
        "FROM df_publico\n",
        "\"\"\")\n",
        "df_publico.createOrReplaceTempView(\"df_publico\")"
      ],
      "metadata": {
        "id": "ydSBBB0YGyG3"
      },
      "execution_count": 21,
      "outputs": []
    },
    {
      "cell_type": "code",
      "source": [
        "df_publico.show()"
      ],
      "metadata": {
        "colab": {
          "base_uri": "https://localhost:8080/"
        },
        "id": "w_zpuDzxG2Un",
        "outputId": "cf7aba76-058c-4bd9-824a-26b47331f0f6"
      },
      "execution_count": 22,
      "outputs": [
        {
          "output_type": "stream",
          "name": "stdout",
          "text": [
            "+---+----------------------+--------------+\n",
            "| ID|Dias desde a Inscrição|DATA_INSCRICAO|\n",
            "+---+----------------------+--------------+\n",
            "|  1|                  1331|    2020-11-03|\n",
            "|  2|                  1160|    2021-04-23|\n",
            "|  3|                   454|    2023-03-30|\n",
            "|  4|                   226|    2023-11-13|\n",
            "|  5|                   474|    2023-03-10|\n",
            "|  6|                   419|    2023-05-04|\n",
            "|  7|                  1334|    2020-10-31|\n",
            "|  8|                  1124|    2021-05-29|\n",
            "|  9|                  1256|    2021-01-17|\n",
            "| 10|                  1197|    2021-03-17|\n",
            "| 11|                  1820|    2019-07-03|\n",
            "| 12|                   550|    2022-12-24|\n",
            "| 13|                  1466|    2020-06-21|\n",
            "| 14|                  1507|    2020-05-11|\n",
            "| 15|                  1292|    2020-12-12|\n",
            "| 16|                  1514|    2020-05-04|\n",
            "| 17|                  1483|    2020-06-04|\n",
            "| 18|                    32|    2024-05-25|\n",
            "| 19|                  1203|    2021-03-11|\n",
            "| 20|                  1157|    2021-04-26|\n",
            "+---+----------------------+--------------+\n",
            "only showing top 20 rows\n",
            "\n"
          ]
        }
      ]
    },
    {
      "cell_type": "code",
      "source": [
        "df_intervalo = spark.sql(\"\"\"\n",
        "SELECT dm.`ID Cliente`, datediff(dm.DATA_ULTIMA_TRANSACAO, pb.DATA_INSCRICAO) as DURACAO_ASSINATURA\n",
        "from df_dt_max dm\n",
        "  INNER JOIN\n",
        "    df_publico pb\n",
        "\n",
        "  ON dm.`ID Cliente` = pb.ID\n",
        "  ORDER BY pb.ID\n",
        "\"\"\")\n",
        "df_intervalo.createOrReplaceTempView(\"df_intervalo\")"
      ],
      "metadata": {
        "id": "BcdHJG4eFhns"
      },
      "execution_count": 23,
      "outputs": []
    },
    {
      "cell_type": "code",
      "source": [
        "df_intervalo.show()"
      ],
      "metadata": {
        "colab": {
          "base_uri": "https://localhost:8080/"
        },
        "id": "8ganpzu0G_sV",
        "outputId": "42cd502a-eba1-4729-b071-efc5255ab9ed"
      },
      "execution_count": 24,
      "outputs": [
        {
          "output_type": "stream",
          "name": "stdout",
          "text": [
            "+----------+------------------+\n",
            "|ID Cliente|DURACAO_ASSINATURA|\n",
            "+----------+------------------+\n",
            "|         1|               775|\n",
            "|         2|               228|\n",
            "|         3|              -129|\n",
            "|         4|              -336|\n",
            "|         5|               -78|\n",
            "|         6|              -240|\n",
            "|         7|               688|\n",
            "|         8|               477|\n",
            "|         9|               590|\n",
            "|        10|               563|\n",
            "|        11|              1142|\n",
            "|        12|              -205|\n",
            "|        13|               848|\n",
            "|        14|               464|\n",
            "|        15|               257|\n",
            "|        16|               898|\n",
            "|        17|               892|\n",
            "|        18|              -582|\n",
            "|        19|               461|\n",
            "|        20|               514|\n",
            "+----------+------------------+\n",
            "only showing top 20 rows\n",
            "\n"
          ]
        }
      ]
    },
    {
      "cell_type": "markdown",
      "source": [
        "Percebemos que existe uma incongruência nos dados. Alguns ID fizeram transações antes de sequer serem inscritos."
      ],
      "metadata": {
        "id": "ywVKa7H7Hc1P"
      }
    },
    {
      "cell_type": "markdown",
      "source": [
        "### 4.7 Número de Categorias Compradas:\n",
        "Quantidade de categorias diferentes das quais o cliente comprou"
      ],
      "metadata": {
        "id": "Gocs0jHpHmmn"
      }
    },
    {
      "cell_type": "code",
      "source": [
        "df_qtd_categorias = spark.sql(\"\"\"\n",
        "\n",
        "SELECT `ID Cliente`, COUNT(*) as QTD_CATEGORIAS_COMPRADAS\n",
        "FROM df_transacoes\n",
        "GROUP BY `ID Cliente`, Categoria\n",
        "\"\"\")\n",
        "\n",
        "df_qtd_categorias.createOrReplaceTempView(\"df_qtd_categorias\")"
      ],
      "metadata": {
        "id": "F7pawmnfHtxA"
      },
      "execution_count": 25,
      "outputs": []
    },
    {
      "cell_type": "code",
      "source": [
        "df_qtd_categorias.show()"
      ],
      "metadata": {
        "colab": {
          "base_uri": "https://localhost:8080/"
        },
        "id": "hTSLxSrwJ07y",
        "outputId": "3dcc0c47-1adc-482d-cb14-4b1208e8f7b4"
      },
      "execution_count": 26,
      "outputs": [
        {
          "output_type": "stream",
          "name": "stdout",
          "text": [
            "+----------+------------------------+\n",
            "|ID Cliente|QTD_CATEGORIAS_COMPRADAS|\n",
            "+----------+------------------------+\n",
            "|        73|                       2|\n",
            "|        87|                       3|\n",
            "|       130|                       4|\n",
            "|       161|                       1|\n",
            "|       193|                       3|\n",
            "|       235|                       5|\n",
            "|       330|                       4|\n",
            "|       375|                       2|\n",
            "|       386|                       1|\n",
            "|       408|                       4|\n",
            "|       472|                       2|\n",
            "|       610|                       2|\n",
            "|       630|                       5|\n",
            "|       634|                       3|\n",
            "|       682|                       2|\n",
            "|       706|                       2|\n",
            "|       721|                       1|\n",
            "|       849|                       2|\n",
            "|       851|                       5|\n",
            "|       951|                       3|\n",
            "+----------+------------------------+\n",
            "only showing top 20 rows\n",
            "\n"
          ]
        }
      ]
    },
    {
      "cell_type": "markdown",
      "source": [
        "# 5 - Criação de Variáveis Históricas:\n",
        "\n",
        "Análise fundamental e etc..."
      ],
      "metadata": {
        "id": "A06t1ymOpjlA"
      }
    },
    {
      "cell_type": "markdown",
      "source": [
        "### 5.1 Média do Valor Gasto nas categorias nos últimos 3 Meses:\n",
        "Esta variável calcula a média dos gastos do cliente na categoria 'Esportes' nesse período"
      ],
      "metadata": {
        "id": "jJRqH2KPpvAr"
      }
    },
    {
      "cell_type": "code",
      "source": [
        "df_valor_medio_3m = spark.sql(\"\"\"\n",
        "SELECT\n",
        "    `ID Cliente`,\n",
        "    ROUND(AVG(CASE WHEN Categoria = 'Esportes' THEN Valor ELSE NULL END), 2) AS MD_VLR_ESPORTES,\n",
        "    ROUND(AVG(CASE WHEN Categoria = 'Alimentos' THEN Valor ELSE NULL END), 2) AS MD_VLR_ALIMENTOS,\n",
        "    ROUND(AVG(CASE WHEN Categoria = 'Roupas' THEN Valor ELSE NULL END), 2) AS MD_VLR_ROUPAS,\n",
        "    ROUND(AVG(CASE WHEN Categoria = 'Livros' THEN Valor ELSE NULL END), 2) AS MD_VLR_LIVROS,\n",
        "    ROUND(AVG(CASE WHEN Categoria = 'Eletrônicos' THEN Valor ELSE NULL END), 2) AS MD_VLR_ELETRONICOS\n",
        "FROM\n",
        "    df_transacoes\n",
        "WHERE\n",
        "    Data >= DATE_SUB(current_date(), 720)\n",
        "GROUP BY\n",
        "    `ID Cliente`\n",
        "\"\"\")\n",
        "\n",
        "df_valor_medio_3m.createOrReplaceTempView('df_valor_medio_3m')"
      ],
      "metadata": {
        "id": "MRWqk0s_p7pl"
      },
      "execution_count": 27,
      "outputs": []
    },
    {
      "cell_type": "code",
      "source": [
        "df_valor_medio_3m.show()"
      ],
      "metadata": {
        "colab": {
          "base_uri": "https://localhost:8080/"
        },
        "id": "PNVDUF4YrW7o",
        "outputId": "94ac7366-5d0f-47b1-c63c-0d5193320180"
      },
      "execution_count": 28,
      "outputs": [
        {
          "output_type": "stream",
          "name": "stdout",
          "text": [
            "+----------+---------------+----------------+-------------+-------------+------------------+\n",
            "|ID Cliente|MD_VLR_ESPORTES|MD_VLR_ALIMENTOS|MD_VLR_ROUPAS|MD_VLR_LIVROS|MD_VLR_ELETRONICOS|\n",
            "+----------+---------------+----------------+-------------+-------------+------------------+\n",
            "|       148|         105.19|           83.42|       139.53|         null|             63.83|\n",
            "|       463|          63.06|            null|        80.97|       156.69|              null|\n",
            "|       471|           null|           86.58|       141.96|         null|              null|\n",
            "|       833|           null|            null|         null|       116.39|              null|\n",
            "|       392|         191.38|          187.32|         null|        54.72|              null|\n",
            "|       540|          59.37|            null|         null|        74.73|              null|\n",
            "|       623|         109.34|            null|         null|         null|              null|\n",
            "|       737|           null|            null|         15.5|         null|              null|\n",
            "|       897|           null|            null|         null|         null|             72.14|\n",
            "|        31|           null|          180.43|         null|       141.59|              null|\n",
            "|        85|         102.22|            34.0|         null|        95.11|             31.89|\n",
            "|       137|           null|            null|        99.79|         null|              null|\n",
            "|       451|           null|            null|         null|       113.78|              null|\n",
            "|       580|           null|           86.46|         null|         null|              null|\n",
            "|       808|         152.78|            null|         null|        71.11|             93.28|\n",
            "|        65|          109.6|            null|         null|        52.66|              null|\n",
            "|       458|           null|           67.93|         null|         null|              null|\n",
            "|       879|           null|            null|         null|         74.1|            121.37|\n",
            "|       883|           null|            null|        75.32|         null|              null|\n",
            "|        53|           null|           63.87|        93.37|         null|              28.9|\n",
            "+----------+---------------+----------------+-------------+-------------+------------------+\n",
            "only showing top 20 rows\n",
            "\n"
          ]
        }
      ]
    },
    {
      "cell_type": "markdown",
      "source": [
        "### 5.2 Média do Valor Gasto nas categorias nos últimos 6 Meses:\n"
      ],
      "metadata": {
        "id": "j-bAov_M3UQp"
      }
    },
    {
      "cell_type": "code",
      "source": [
        "df_valor_medio_6m = spark.sql(\"\"\"\n",
        "SELECT\n",
        "    `ID Cliente`,\n",
        "    ROUND(AVG(CASE WHEN Categoria = 'Esportes' THEN Valor ELSE NULL END), 2) AS MD_VLR_ESPORTES,\n",
        "    ROUND(AVG(CASE WHEN Categoria = 'Alimentos' THEN Valor ELSE NULL END), 2) AS MD_VLR_ALIMENTOS,\n",
        "    ROUND(AVG(CASE WHEN Categoria = 'Roupas' THEN Valor ELSE NULL END), 2) AS MD_VLR_ROUPAS,\n",
        "    ROUND(AVG(CASE WHEN Categoria = 'Livros' THEN Valor ELSE NULL END), 2) AS MD_VLR_LIVROS,\n",
        "    ROUND(AVG(CASE WHEN Categoria = 'Eletrônicos' THEN Valor ELSE NULL END), 2) AS MD_VLR_ELETRONICOS\n",
        "FROM\n",
        "    df_transacoes\n",
        "WHERE\n",
        "    Data >= DATE_SUB(current_date(), 810)\n",
        "GROUP BY\n",
        "    `ID Cliente`\n",
        "\"\"\")\n",
        "\n",
        "df_valor_medio_6m.createOrReplaceTempView('df_valor_medio_6m')"
      ],
      "metadata": {
        "id": "cSG8qWeZ3XXb"
      },
      "execution_count": 54,
      "outputs": []
    },
    {
      "cell_type": "code",
      "source": [
        "df_valor_medio_6m.show()"
      ],
      "metadata": {
        "colab": {
          "base_uri": "https://localhost:8080/"
        },
        "id": "g-j8kddu3bwA",
        "outputId": "183fc4a0-e96c-489e-cbba-1007c5a67d21"
      },
      "execution_count": 55,
      "outputs": [
        {
          "output_type": "stream",
          "name": "stdout",
          "text": [
            "+----------+---------------+----------------+-------------+-------------+------------------+\n",
            "|ID Cliente|MD_VLR_ESPORTES|MD_VLR_ALIMENTOS|MD_VLR_ROUPAS|MD_VLR_LIVROS|MD_VLR_ELETRONICOS|\n",
            "+----------+---------------+----------------+-------------+-------------+------------------+\n",
            "|       148|         105.19|          106.55|       139.53|         null|             63.83|\n",
            "|       463|          63.06|            null|        80.97|       156.69|              null|\n",
            "|       471|           null|           86.58|       150.03|         null|              null|\n",
            "|       833|           null|            null|         null|       116.39|            175.14|\n",
            "|       243|           null|            null|         null|         null|            157.53|\n",
            "|       392|         191.38|          187.32|         null|       102.11|              null|\n",
            "|       540|           53.6|            null|         null|        74.73|              null|\n",
            "|       623|         109.34|            null|         null|         null|             27.59|\n",
            "|       737|           null|            null|         15.5|         null|            123.07|\n",
            "|       897|           null|           61.58|         null|         null|             72.14|\n",
            "|        31|           null|          131.33|       142.74|       106.44|              null|\n",
            "|        85|         102.22|            34.0|         null|        99.58|             49.05|\n",
            "|       137|           null|            null|        99.79|         null|            105.83|\n",
            "|       251|         164.34|            null|         null|         null|              null|\n",
            "|       451|           null|            null|        69.65|       119.95|              null|\n",
            "|       580|           null|           87.54|         null|         null|             97.19|\n",
            "|       808|         152.78|            null|         null|        71.11|             93.28|\n",
            "|        65|          109.6|           76.45|         null|        52.66|              null|\n",
            "|       458|           null|           67.93|         null|         null|            152.15|\n",
            "|       879|           null|            null|         null|         74.1|            121.37|\n",
            "+----------+---------------+----------------+-------------+-------------+------------------+\n",
            "only showing top 20 rows\n",
            "\n"
          ]
        }
      ]
    },
    {
      "cell_type": "markdown",
      "source": [
        "### 5.3 Média do Valor Gasto nas categorias nos últimos 9 Meses:"
      ],
      "metadata": {
        "id": "OFf92yvl300_"
      }
    },
    {
      "cell_type": "code",
      "source": [
        "df_valor_medio_9m = spark.sql(\"\"\"\n",
        "SELECT\n",
        "    `ID Cliente`,\n",
        "    ROUND(AVG(CASE WHEN Categoria = 'Esportes' THEN Valor ELSE NULL END), 2) AS MD_VLR_ESPORTES,\n",
        "    ROUND(AVG(CASE WHEN Categoria = 'Alimentos' THEN Valor ELSE NULL END), 2) AS MD_VLR_ALIMENTOS,\n",
        "    ROUND(AVG(CASE WHEN Categoria = 'Roupas' THEN Valor ELSE NULL END), 2) AS MD_VLR_ROUPAS,\n",
        "    ROUND(AVG(CASE WHEN Categoria = 'Livros' THEN Valor ELSE NULL END), 2) AS MD_VLR_LIVROS,\n",
        "    ROUND(AVG(CASE WHEN Categoria = 'Eletrônicos' THEN Valor ELSE NULL END), 2) AS MD_VLR_ELETRONICOS\n",
        "FROM\n",
        "    df_transacoes\n",
        "WHERE\n",
        "    Data >= DATE_SUB(current_date(), 900)\n",
        "GROUP BY\n",
        "    `ID Cliente`\n",
        "\"\"\")\n",
        "\n",
        "df_valor_medio_9m.createOrReplaceTempView('df_valor_medio_9m')"
      ],
      "metadata": {
        "id": "DdXg6brq32yc"
      },
      "execution_count": 56,
      "outputs": []
    },
    {
      "cell_type": "code",
      "source": [
        "df_valor_medio_9m.show()"
      ],
      "metadata": {
        "colab": {
          "base_uri": "https://localhost:8080/"
        },
        "id": "_2hJSRyY360e",
        "outputId": "74cac86f-e906-49c8-d697-45077786d796"
      },
      "execution_count": 57,
      "outputs": [
        {
          "output_type": "stream",
          "name": "stdout",
          "text": [
            "+----------+---------------+----------------+-------------+-------------+------------------+\n",
            "|ID Cliente|MD_VLR_ESPORTES|MD_VLR_ALIMENTOS|MD_VLR_ROUPAS|MD_VLR_LIVROS|MD_VLR_ELETRONICOS|\n",
            "+----------+---------------+----------------+-------------+-------------+------------------+\n",
            "|       148|          91.69|          106.55|       139.53|         null|             63.83|\n",
            "|       463|          63.06|            null|        80.97|       156.69|            142.62|\n",
            "|       471|           null|           86.58|       150.03|         null|            154.98|\n",
            "|       833|           null|            null|         null|       116.39|            175.14|\n",
            "|       243|           null|            null|         null|         null|            117.51|\n",
            "|       392|         191.38|           99.92|       105.96|       102.11|              null|\n",
            "|       540|           53.6|            null|         null|        74.73|            184.29|\n",
            "|       623|         109.34|           70.97|         null|         null|             27.59|\n",
            "|       737|           null|            null|        71.17|         null|            123.07|\n",
            "|       897|           null|           61.58|         21.1|         null|             72.14|\n",
            "|        31|           null|          131.33|       142.74|       106.44|              null|\n",
            "|        85|         102.22|            34.0|         69.0|        99.58|             49.05|\n",
            "|       137|           null|          105.24|       139.83|         null|            105.83|\n",
            "|       251|         164.34|            null|         null|         null|              null|\n",
            "|       451|           null|            null|        69.65|       119.95|              null|\n",
            "|       580|           null|           97.55|        54.57|         null|             97.19|\n",
            "|       808|         152.78|            null|         null|        71.11|             93.28|\n",
            "|        65|          109.6|           76.45|         null|        52.66|            173.91|\n",
            "|       458|         156.86|           67.93|         null|         null|            152.15|\n",
            "|       879|         191.33|            null|         null|         74.1|            121.37|\n",
            "+----------+---------------+----------------+-------------+-------------+------------------+\n",
            "only showing top 20 rows\n",
            "\n"
          ]
        }
      ]
    },
    {
      "cell_type": "code",
      "source": [
        "# Juntar todas as tabelas com variáveis explicativas na tabela final df_geral\n",
        "df_geral = spark.sql(\"\"\"\n",
        "SELECT\n",
        "    t.`ID Cliente`,\n",
        "    t.Valor,\n",
        "    t.Data,\n",
        "    t.Categoria,\n",
        "    u.ULTIMA_TRANSACAO_EM_DIAS,\n",
        "    f.FREQ_COMPRA_MENSAL,\n",
        "    tg.VALOR_TOTAL_GASTO,\n",
        "    cf.Categoria_Favorita,\n",
        "    gm.VALOR_TOTAL_POR_TRANS,\n",
        "    i.DURACAO_ASSINATURA,\n",
        "    vm3.MD_VLR_ESPORTES as MD_VLR_ESPORTES_3M,\n",
        "    vm3.MD_VLR_ALIMENTOS as MD_VLR_ALIMENTOS_3M,\n",
        "    vm3.MD_VLR_ROUPAS as MD_VLR_ROUPAS_3M,\n",
        "    vm3.MD_VLR_LIVROS as MD_VLR_LIVROS_3M,\n",
        "    vm3.MD_VLR_ELETRONICOS as MD_VLR_ELETRONICOS_3M,\n",
        "    vm6.MD_VLR_ESPORTES as MD_VLR_ESPORTES_6M,\n",
        "    vm6.MD_VLR_ALIMENTOS as MD_VLR_ALIMENTOS_6M,\n",
        "    vm6.MD_VLR_ROUPAS as MD_VLR_ROUPAS_6M,\n",
        "    vm6.MD_VLR_LIVROS as MD_VLR_LIVROS_6M,\n",
        "    vm6.MD_VLR_ELETRONICOS as MD_VLR_ELETRONICOS_6M,\n",
        "    vm9.MD_VLR_ESPORTES as MD_VLR_ESPORTES_9M,\n",
        "    vm9.MD_VLR_ALIMENTOS as MD_VLR_ALIMENTOS_9M,\n",
        "    vm9.MD_VLR_ROUPAS as MD_VLR_ROUPAS_9M,\n",
        "    vm9.MD_VLR_LIVROS as MD_VLR_LIVROS_9M,\n",
        "    vm9.MD_VLR_ELETRONICOS as MD_VLR_ELETRONICOS_9M\n",
        "FROM df_transacoes t\n",
        "LEFT JOIN df_ult_tras u ON t.`ID Cliente` = u.`ID Cliente`\n",
        "LEFT JOIN df_freq_compra_mensal f ON t.`ID Cliente` = f.`ID Cliente`\n",
        "LEFT JOIN df_total_gasto tg ON t.`ID Cliente` = tg.`ID Cliente`\n",
        "LEFT JOIN df_favorita cf ON t.`ID Cliente` = cf.`ID Cliente`\n",
        "LEFT JOIN df_gasto_medio_tras gm ON t.`ID Cliente` = gm.`ID Cliente`\n",
        "LEFT JOIN df_intervalo i ON t.`ID Cliente` = i.`ID Cliente`\n",
        "LEFT JOIN df_valor_medio_3m vm3 ON t.`ID Cliente` = vm3.`ID Cliente`\n",
        "LEFT JOIN df_valor_medio_6m vm6 ON t.`ID Cliente` = vm6.`ID Cliente`\n",
        "LEFT JOIN df_valor_medio_9m vm9 ON t.`ID Cliente` = vm9.`ID Cliente`\n",
        "\"\"\")\n",
        "\n",
        "df_geral.createOrReplaceTempView('df_geral')\n"
      ],
      "metadata": {
        "id": "KBWzgOG26gdR"
      },
      "execution_count": 58,
      "outputs": []
    },
    {
      "cell_type": "code",
      "source": [
        "df_geral.show()"
      ],
      "metadata": {
        "colab": {
          "base_uri": "https://localhost:8080/"
        },
        "id": "Vh9VnJBi_Mvg",
        "outputId": "f0ca63e9-e1aa-4520-aafa-85f5788bc3f3"
      },
      "execution_count": 59,
      "outputs": [
        {
          "output_type": "stream",
          "name": "stdout",
          "text": [
            "+----------+------------------+--------------------+-----------+------------------------+------------------+-----------------+------------------+---------------------+------------------+------------------+-------------------+----------------+----------------+---------------------+------------------+-------------------+----------------+----------------+---------------------+------------------+-------------------+----------------+----------------+---------------------+\n",
            "|ID Cliente|             Valor|                Data|  Categoria|ULTIMA_TRANSACAO_EM_DIAS|FREQ_COMPRA_MENSAL|VALOR_TOTAL_GASTO|Categoria_Favorita|VALOR_TOTAL_POR_TRANS|DURACAO_ASSINATURA|MD_VLR_ESPORTES_3M|MD_VLR_ALIMENTOS_3M|MD_VLR_ROUPAS_3M|MD_VLR_LIVROS_3M|MD_VLR_ELETRONICOS_3M|MD_VLR_ESPORTES_6M|MD_VLR_ALIMENTOS_6M|MD_VLR_ROUPAS_6M|MD_VLR_LIVROS_6M|MD_VLR_ELETRONICOS_6M|MD_VLR_ESPORTES_9M|MD_VLR_ALIMENTOS_9M|MD_VLR_ROUPAS_9M|MD_VLR_LIVROS_9M|MD_VLR_ELETRONICOS_9M|\n",
            "+----------+------------------+--------------------+-----------+------------------------+------------------+-----------------+------------------+---------------------+------------------+------------------+-------------------+----------------+----------------+---------------------+------------------+-------------------+----------------+----------------+---------------------+------------------+-------------------+----------------+----------------+---------------------+\n",
            "|       148| 63.83006567909965|2022-11-03 06:56:...|Eletrônicos|                     569| 1.210762331838565|          1767.92|         Alimentos|                98.22|              -123|            105.19|             106.55|          139.53|            null|                63.83|            105.19|             106.55|          139.53|            null|                63.83|             91.69|             106.55|          139.53|            null|                63.83|\n",
            "|       148| 20.31501829328732|2022-08-23 16:31:...|   Esportes|                     569| 1.210762331838565|          1767.92|         Alimentos|                98.22|              -123|            105.19|             106.55|          139.53|            null|                63.83|            105.19|             106.55|          139.53|            null|                63.83|             91.69|             106.55|          139.53|            null|                63.83|\n",
            "|       148|  76.3233906174608|2020-07-22 11:53:...|  Alimentos|                     569| 1.210762331838565|          1767.92|         Alimentos|                98.22|              -123|            105.19|             106.55|          139.53|            null|                63.83|            105.19|             106.55|          139.53|            null|                63.83|             91.69|             106.55|          139.53|            null|                63.83|\n",
            "|       148| 83.42068457930611|2022-10-13 19:57:...|  Alimentos|                     569| 1.210762331838565|          1767.92|         Alimentos|                98.22|              -123|            105.19|             106.55|          139.53|            null|                63.83|            105.19|             106.55|          139.53|            null|                63.83|             91.69|             106.55|          139.53|            null|                63.83|\n",
            "|       148|57.703110504471894|2021-09-29 22:37:...|   Esportes|                     569| 1.210762331838565|          1767.92|         Alimentos|                98.22|              -123|            105.19|             106.55|          139.53|            null|                63.83|            105.19|             106.55|          139.53|            null|                63.83|             91.69|             106.55|          139.53|            null|                63.83|\n",
            "|       148|47.019651155272946|2021-10-23 22:52:...|   Esportes|                     569| 1.210762331838565|          1767.92|         Alimentos|                98.22|              -123|            105.19|             106.55|          139.53|            null|                63.83|            105.19|             106.55|          139.53|            null|                63.83|             91.69|             106.55|          139.53|            null|                63.83|\n",
            "|       148| 74.32419794901116|2020-09-01 17:35:...|Eletrônicos|                     569| 1.210762331838565|          1767.92|         Alimentos|                98.22|              -123|            105.19|             106.55|          139.53|            null|                63.83|            105.19|             106.55|          139.53|            null|                63.83|             91.69|             106.55|          139.53|            null|                63.83|\n",
            "|       148|129.68629096889788|2022-04-12 19:47:...|  Alimentos|                     569| 1.210762331838565|          1767.92|         Alimentos|                98.22|              -123|            105.19|             106.55|          139.53|            null|                63.83|            105.19|             106.55|          139.53|            null|                63.83|             91.69|             106.55|          139.53|            null|                63.83|\n",
            "|       148| 190.0617756880667|2022-12-05 08:59:...|   Esportes|                     569| 1.210762331838565|          1767.92|         Alimentos|                98.22|              -123|            105.19|             106.55|          139.53|            null|                63.83|            105.19|             106.55|          139.53|            null|                63.83|             91.69|             106.55|          139.53|            null|                63.83|\n",
            "|       148| 142.2372436746431|2020-01-03 19:11:...|Eletrônicos|                     569| 1.210762331838565|          1767.92|         Alimentos|                98.22|              -123|            105.19|             106.55|          139.53|            null|                63.83|            105.19|             106.55|          139.53|            null|                63.83|             91.69|             106.55|          139.53|            null|                63.83|\n",
            "|       148|157.02260156438723|2021-04-27 11:13:...|     Livros|                     569| 1.210762331838565|          1767.92|         Alimentos|                98.22|              -123|            105.19|             106.55|          139.53|            null|                63.83|            105.19|             106.55|          139.53|            null|                63.83|             91.69|             106.55|          139.53|            null|                63.83|\n",
            "|       148|  64.6830590593348|2022-03-24 15:49:...|   Esportes|                     569| 1.210762331838565|          1767.92|         Alimentos|                98.22|              -123|            105.19|             106.55|          139.53|            null|                63.83|            105.19|             106.55|          139.53|            null|                63.83|             91.69|             106.55|          139.53|            null|                63.83|\n",
            "|       148|25.415034131969595|2020-08-01 04:27:...|  Alimentos|                     569| 1.210762331838565|          1767.92|         Alimentos|                98.22|              -123|            105.19|             106.55|          139.53|            null|                63.83|            105.19|             106.55|          139.53|            null|                63.83|             91.69|             106.55|          139.53|            null|                63.83|\n",
            "|       148| 61.84514136648301|2020-09-16 09:01:...|     Livros|                     569| 1.210762331838565|          1767.92|         Alimentos|                98.22|              -123|            105.19|             106.55|          139.53|            null|                63.83|            105.19|             106.55|          139.53|            null|                63.83|             91.69|             106.55|          139.53|            null|                63.83|\n",
            "|       148| 83.51757121120055|2021-10-11 05:56:...|   Esportes|                     569| 1.210762331838565|          1767.92|         Alimentos|                98.22|              -123|            105.19|             106.55|          139.53|            null|                63.83|            105.19|             106.55|          139.53|            null|                63.83|             91.69|             106.55|          139.53|            null|                63.83|\n",
            "|       148|139.52686256301828|2022-07-24 12:59:...|     Roupas|                     569| 1.210762331838565|          1767.92|         Alimentos|                98.22|              -123|            105.19|             106.55|          139.53|            null|                63.83|            105.19|             106.55|          139.53|            null|                63.83|             91.69|             106.55|          139.53|            null|                63.83|\n",
            "|       148|188.17492057093276|2020-11-03 04:21:...|  Alimentos|                     569| 1.210762331838565|          1767.92|         Alimentos|                98.22|              -123|            105.19|             106.55|          139.53|            null|                63.83|            105.19|             106.55|          139.53|            null|                63.83|             91.69|             106.55|          139.53|            null|                63.83|\n",
            "|       148|162.81204029952664|2020-04-12 12:02:...|  Alimentos|                     569| 1.210762331838565|          1767.92|         Alimentos|                98.22|              -123|            105.19|             106.55|          139.53|            null|                63.83|            105.19|             106.55|          139.53|            null|                63.83|             91.69|             106.55|          139.53|            null|                63.83|\n",
            "|       463|63.061604062615544|2022-11-10 19:49:...|   Esportes|                     594|0.2050113895216401|           559.76|            Roupas|                93.29|               284|             63.06|               null|           80.97|          156.69|                 null|             63.06|               null|           80.97|          156.69|                 null|             63.06|               null|           80.97|          156.69|               142.62|\n",
            "|       463|142.62459976328677|2022-02-10 10:52:...|Eletrônicos|                     594|0.2050113895216401|           559.76|            Roupas|                93.29|               284|             63.06|               null|           80.97|          156.69|                 null|             63.06|               null|           80.97|          156.69|                 null|             63.06|               null|           80.97|          156.69|               142.62|\n",
            "+----------+------------------+--------------------+-----------+------------------------+------------------+-----------------+------------------+---------------------+------------------+------------------+-------------------+----------------+----------------+---------------------+------------------+-------------------+----------------+----------------+---------------------+------------------+-------------------+----------------+----------------+---------------------+\n",
            "only showing top 20 rows\n",
            "\n"
          ]
        }
      ]
    }
  ]
}