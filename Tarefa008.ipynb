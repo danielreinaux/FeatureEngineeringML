{
  "nbformat": 4,
  "nbformat_minor": 0,
  "metadata": {
    "colab": {
      "provenance": [],
      "authorship_tag": "ABX9TyN0gKXELCp+Ss90d8mRCnni",
      "include_colab_link": true
    },
    "kernelspec": {
      "name": "python3",
      "display_name": "Python 3"
    },
    "language_info": {
      "name": "python"
    }
  },
  "cells": [
    {
      "cell_type": "markdown",
      "metadata": {
        "id": "view-in-github",
        "colab_type": "text"
      },
      "source": [
        "<a href=\"https://colab.research.google.com/github/danielreinaux/FeatureEngineeringML/blob/main/Tarefa008.ipynb\" target=\"_parent\"><img src=\"https://colab.research.google.com/assets/colab-badge.svg\" alt=\"Open In Colab\"/></a>"
      ]
    },
    {
      "cell_type": "markdown",
      "source": [
        "## Feature Engineering:\n",
        "\n",
        "No nosso projeto, temos duas bases:\n",
        "* Base de Churn, com informações cadastrais de 1000 pessoas\n",
        "* Base de Transaições, contendo as transações históricas de compras feitas por essas pessoas, incluindo detalhes como data da compra, valor gasto e categoria do produto\n",
        "\n",
        "A ideia é estar criando variáveis explicativas, processo fundamental na Engenharia e Ciência de Dados, para melhorar nosso estudo de algoritmos."
      ],
      "metadata": {
        "id": "LsvSwm573Psg"
      }
    },
    {
      "cell_type": "markdown",
      "source": [
        "### 1. Inicializando o PySpark:"
      ],
      "metadata": {
        "id": "FnbczbQZ4Dxz"
      }
    },
    {
      "cell_type": "code",
      "source": [
        "#!apt-get install openjdk-8-jdk-headless -qq > /dev/null\n",
        "#!wget -q https://archive.apache.org/dist/spark/spark-3.1.2/spark-3.1.2-bin-hadoop3.2.tgz\n",
        "#!tar xf spark-3.1.2-bin-hadoop3.2.tgz\n",
        "#pip install -q findspark\n"
      ],
      "metadata": {
        "id": "QCx_xlGn4IzU",
        "colab": {
          "base_uri": "https://localhost:8080/"
        },
        "outputId": "9db2ea2a-5dcf-4622-e73c-71bdfbd4d33e"
      },
      "execution_count": 49,
      "outputs": [
        {
          "output_type": "stream",
          "name": "stdout",
          "text": [
            "^C\n"
          ]
        }
      ]
    },
    {
      "cell_type": "code",
      "source": [
        "import os\n",
        "os.environ[\"JAVA_HOME\"] = \"/usr/lib/jvm/java-8-openjdk-amd64\"\n",
        "os.environ[\"SPARK_HOME\"] = \"/content/spark-3.1.2-bin-hadoop3.2\"\n",
        "\n",
        "import findspark\n",
        "findspark.init()\n",
        "from pyspark.sql import SparkSession\n",
        "spark = SparkSession.builder.master(\"local[*]\").getOrCreate()"
      ],
      "metadata": {
        "id": "14TtAG_z4M7c"
      },
      "execution_count": 50,
      "outputs": []
    },
    {
      "cell_type": "markdown",
      "source": [
        "# 2. Informações iniciais\n",
        "\n",
        "Nesse pontoe estaremos trazendo informações básicas das duas tabelas, e entendendo o número de colunas, o tipo e etc.\n",
        "\n",
        "Análise fundamental para o começo da criação das variáveis explicativas"
      ],
      "metadata": {
        "id": "9VfLZCoy4lNc"
      }
    },
    {
      "cell_type": "code",
      "source": [
        "df_transacoes = spark.read.csv('/content/base_transacoes.csv', header=True, inferSchema = True)\n",
        "\n",
        "df_transacoes.createOrReplaceTempView('df_transacoes')"
      ],
      "metadata": {
        "id": "nkX8THPX40le"
      },
      "execution_count": 51,
      "outputs": []
    },
    {
      "cell_type": "code",
      "source": [
        "df_publico = spark.read.csv('/content/base_churn.csv', header=True, inferSchema = True)\n",
        "\n",
        "df_publico.createOrReplaceTempView('df_publico')"
      ],
      "metadata": {
        "id": "FezgM-YC5MaU"
      },
      "execution_count": 52,
      "outputs": []
    },
    {
      "cell_type": "markdown",
      "source": [
        "### 2.1 Vendo Schemas:\n",
        "Isso nos possibilita ver as colunas das bases, entendendo também o tipo de cada coluna"
      ],
      "metadata": {
        "id": "0WRySf8c5VHk"
      }
    },
    {
      "cell_type": "code",
      "source": [
        "df_transacoes.printSchema()"
      ],
      "metadata": {
        "colab": {
          "base_uri": "https://localhost:8080/"
        },
        "id": "RpDNGUvw5UhN",
        "outputId": "a1005db7-f9a0-44a0-d6db-528b294d6d40"
      },
      "execution_count": 53,
      "outputs": [
        {
          "output_type": "stream",
          "name": "stdout",
          "text": [
            "root\n",
            " |-- ID Transação: integer (nullable = true)\n",
            " |-- ID Cliente: integer (nullable = true)\n",
            " |-- Data: string (nullable = true)\n",
            " |-- Valor: double (nullable = true)\n",
            " |-- Categoria: string (nullable = true)\n",
            "\n"
          ]
        }
      ]
    },
    {
      "cell_type": "code",
      "source": [
        "df_publico.printSchema()"
      ],
      "metadata": {
        "colab": {
          "base_uri": "https://localhost:8080/"
        },
        "id": "-slF4zEJ5e_c",
        "outputId": "8a9951ca-6445-4294-875c-66bef099caa6"
      },
      "execution_count": 54,
      "outputs": [
        {
          "output_type": "stream",
          "name": "stdout",
          "text": [
            "root\n",
            " |-- ID: integer (nullable = true)\n",
            " |-- Idade: integer (nullable = true)\n",
            " |-- Gênero: string (nullable = true)\n",
            " |-- Dias desde a Inscrição: integer (nullable = true)\n",
            " |-- Usou Suporte: integer (nullable = true)\n",
            " |-- Plano: string (nullable = true)\n",
            " |-- Churn: integer (nullable = true)\n",
            "\n"
          ]
        }
      ]
    },
    {
      "cell_type": "code",
      "source": [
        "df_transacoes.show(10, False)"
      ],
      "metadata": {
        "colab": {
          "base_uri": "https://localhost:8080/"
        },
        "id": "yL0UGHYe5jP3",
        "outputId": "db08c774-5760-4e77-d6b6-a23d92959ba9"
      },
      "execution_count": 55,
      "outputs": [
        {
          "output_type": "stream",
          "name": "stdout",
          "text": [
            "+------------+----------+-----------------------------+------------------+-----------+\n",
            "|ID Transação|ID Cliente|Data                         |Valor             |Categoria  |\n",
            "+------------+----------+-----------------------------+------------------+-----------+\n",
            "|1           |1         |2022-11-25 13:50:26.548672560|57.287427536330505|Esportes   |\n",
            "|2           |1         |2020-01-19 12:27:36.637168141|97.07199340552512 |Alimentos  |\n",
            "|3           |1         |2021-12-28 12:33:58.938053096|169.10581012381087|Livros     |\n",
            "|4           |1         |2022-02-05 01:39:49.380530968|199.38694865538451|Roupas     |\n",
            "|5           |1         |2022-11-16 23:06:54.159292032|160.00228343317622|Eletrônicos|\n",
            "|6           |1         |2020-04-25 12:42:28.672566372|9.842481270765422 |Alimentos  |\n",
            "|7           |1         |2022-10-31 22:05:18.584070800|76.90706330227667 |Eletrônicos|\n",
            "|8           |1         |2020-10-06 12:14:52.035398228|53.20607404593595 |Roupas     |\n",
            "|9           |1         |2022-11-02 12:50:58.407079648|193.00568791656067|Livros     |\n",
            "|10          |1         |2020-09-06 21:37:41.946902652|56.524638713138636|Alimentos  |\n",
            "+------------+----------+-----------------------------+------------------+-----------+\n",
            "only showing top 10 rows\n",
            "\n"
          ]
        }
      ]
    },
    {
      "cell_type": "code",
      "source": [
        "df_publico.show()"
      ],
      "metadata": {
        "colab": {
          "base_uri": "https://localhost:8080/"
        },
        "id": "B-9QUrAs5tfw",
        "outputId": "53ef986a-1063-4313-a4c5-d2be89fa4067"
      },
      "execution_count": 56,
      "outputs": [
        {
          "output_type": "stream",
          "name": "stdout",
          "text": [
            "+---+-----+------+----------------------+------------+-------------+-----+\n",
            "| ID|Idade|Gênero|Dias desde a Inscrição|Usou Suporte|        Plano|Churn|\n",
            "+---+-----+------+----------------------+------------+-------------+-----+\n",
            "|  1|   21|     F|                  1331|           1|Intermediário|    1|\n",
            "|  2|   21|     M|                  1160|           0|Intermediário|    0|\n",
            "|  3|   62|     M|                   454|           1|       Básico|    0|\n",
            "|  4|   64|     M|                   226|           1|Intermediário|    0|\n",
            "|  5|   61|     M|                   474|           1|     Avançado|    0|\n",
            "|  6|   18|     M|                   419|           0|       Básico|    0|\n",
            "|  7|   52|     M|                  1334|           0|       Básico|    0|\n",
            "|  8|   44|     M|                  1124|           1|Intermediário|    0|\n",
            "|  9|   52|     M|                  1256|           1|Intermediário|    0|\n",
            "| 10|   64|     F|                  1197|           0|       Básico|    0|\n",
            "| 11|   50|     F|                  1820|           1|Intermediário|    0|\n",
            "| 12|   46|     F|                   550|           0|     Avançado|    0|\n",
            "| 13|   65|     M|                  1466|           0|     Avançado|    0|\n",
            "| 14|   33|     M|                  1507|           0|     Avançado|    0|\n",
            "| 15|   19|     F|                  1292|           1|     Avançado|    1|\n",
            "| 16|   22|     F|                  1514|           0|       Básico|    1|\n",
            "| 17|   38|     F|                  1483|           0|Intermediário|    1|\n",
            "| 18|   44|     F|                    32|           0|Intermediário|    0|\n",
            "| 19|   68|     F|                  1203|           1|     Avançado|    1|\n",
            "| 20|   35|     F|                  1157|           1|     Avançado|    1|\n",
            "+---+-----+------+----------------------+------------+-------------+-----+\n",
            "only showing top 20 rows\n",
            "\n"
          ]
        }
      ]
    },
    {
      "cell_type": "markdown",
      "source": [
        "# 3 Análise Inicial"
      ],
      "metadata": {
        "id": "VB4XBNuS57eJ"
      }
    },
    {
      "cell_type": "markdown",
      "source": [
        "Nessa etapa, estaremos fazendo consultas simples, nos ajudando a trazer contexto as tabelas"
      ],
      "metadata": {
        "id": "Vk5k8IAX7gYg"
      }
    },
    {
      "cell_type": "markdown",
      "source": [
        "### 3.1 Contagem de Transações por Cliente\n",
        "\n",
        "Veremos quantas transações cada cliente realizou. Isso nos ajudará a identificar clientes mais ativos"
      ],
      "metadata": {
        "id": "6tcvmq-r9Dg8"
      }
    },
    {
      "cell_type": "code",
      "source": [
        "df_qtd_transacoes = spark.sql(\"\"\"\n",
        "SELECT `ID Cliente`, COUNT(*) as QTD_TRANSACOES\n",
        "from df_transacoes\n",
        "group by `ID Cliente`\n",
        "order by QTD_TRANSACOES DESC\n",
        "\"\"\")\n",
        "\n",
        "df_qtd_transacoes.createOrReplaceTempView('df_qtd_transacoes')"
      ],
      "metadata": {
        "id": "JVR7uUSU51AG"
      },
      "execution_count": 57,
      "outputs": []
    },
    {
      "cell_type": "code",
      "source": [
        "df_qtd_transacoes.show()"
      ],
      "metadata": {
        "colab": {
          "base_uri": "https://localhost:8080/"
        },
        "id": "Lc61zXOz9L76",
        "outputId": "ee0c92e0-34e5-4ea1-8020-11311d21526f"
      },
      "execution_count": 78,
      "outputs": [
        {
          "output_type": "stream",
          "name": "stdout",
          "text": [
            "+----------+--------------+\n",
            "|ID Cliente|QTD_TRANSACOES|\n",
            "+----------+--------------+\n",
            "|       959|            19|\n",
            "|       120|            19|\n",
            "|       235|            19|\n",
            "|       689|            19|\n",
            "|       966|            19|\n",
            "|       861|            19|\n",
            "|       919|            19|\n",
            "|       797|            19|\n",
            "|       715|            19|\n",
            "|       699|            19|\n",
            "|       852|            19|\n",
            "|       253|            19|\n",
            "|       950|            19|\n",
            "|       111|            19|\n",
            "|       225|            19|\n",
            "|       822|            19|\n",
            "|       246|            19|\n",
            "|       580|            19|\n",
            "|       844|            19|\n",
            "|        53|            19|\n",
            "+----------+--------------+\n",
            "only showing top 20 rows\n",
            "\n"
          ]
        }
      ]
    },
    {
      "cell_type": "markdown",
      "source": [
        "### 3.2 Valor Médio das Transações por Clientes\n",
        "\n",
        "Isso ajudará a entender o ocmportamento de compra dos clientes"
      ],
      "metadata": {
        "id": "-nDcI6yY9qFG"
      }
    },
    {
      "cell_type": "code",
      "source": [
        "vl_med_tras = spark.sql(\"\"\"\n",
        "SELECT `ID Cliente`, ROUND(AVG(Valor), 2) as VL_MED_TRANSACOES\n",
        "from df_transacoes\n",
        "group by `ID Cliente`\n",
        "\"\"\")\n",
        "\n",
        "vl_med_tras.createOrReplaceTempView('vl_med_tras')\n",
        "\n",
        "vl_med_tras.show()"
      ],
      "metadata": {
        "colab": {
          "base_uri": "https://localhost:8080/"
        },
        "id": "QsG2Afu39s_7",
        "outputId": "3a52cb9d-1cf5-4e81-e703-458eef8f4b40"
      },
      "execution_count": 59,
      "outputs": [
        {
          "output_type": "stream",
          "name": "stdout",
          "text": [
            "+----------+-----------------+\n",
            "|ID Cliente|VL_MED_TRANSACOES|\n",
            "+----------+-----------------+\n",
            "|       148|            98.22|\n",
            "|       463|            93.29|\n",
            "|       471|           135.73|\n",
            "|       496|            85.31|\n",
            "|       833|           101.95|\n",
            "|       243|            98.88|\n",
            "|       392|            114.6|\n",
            "|       540|            92.87|\n",
            "|       623|            93.95|\n",
            "|       737|           105.95|\n",
            "|       858|            129.1|\n",
            "|       897|            88.58|\n",
            "|        31|           102.14|\n",
            "|       516|           136.59|\n",
            "|        85|            65.46|\n",
            "|       137|           118.51|\n",
            "|       251|            88.28|\n",
            "|       451|            114.2|\n",
            "|       580|           103.75|\n",
            "|       808|           100.19|\n",
            "+----------+-----------------+\n",
            "only showing top 20 rows\n",
            "\n"
          ]
        }
      ]
    },
    {
      "cell_type": "markdown",
      "source": [
        "### 3.3 Valor médio das transações por categoria"
      ],
      "metadata": {
        "id": "ibyBU_4h-j9J"
      }
    },
    {
      "cell_type": "code",
      "source": [
        "vl_med_tras_cat = spark.sql(\"\"\"\n",
        "SELECT Categoria, ROUND(AVG(VALOR), 2) as VL_MED_CATEGORIA\n",
        "from df_transacoes\n",
        "group by Categoria\n",
        "\"\"\")\n",
        "\n",
        "vl_med_tras_cat.createOrReplaceTempView('vl_med_tras_cat')\n",
        "\n",
        "vl_med_tras_cat.show()"
      ],
      "metadata": {
        "colab": {
          "base_uri": "https://localhost:8080/"
        },
        "id": "Bgtgo73d-onK",
        "outputId": "7ce0fcb5-7822-4127-ed3b-dbf094f41a53"
      },
      "execution_count": 60,
      "outputs": [
        {
          "output_type": "stream",
          "name": "stdout",
          "text": [
            "+-----------+----------------+\n",
            "|  Categoria|VL_MED_CATEGORIA|\n",
            "+-----------+----------------+\n",
            "|     Livros|          105.34|\n",
            "|Eletrônicos|          101.27|\n",
            "|  Alimentos|          104.43|\n",
            "|   Esportes|          101.98|\n",
            "|     Roupas|          100.32|\n",
            "+-----------+----------------+\n",
            "\n"
          ]
        }
      ]
    },
    {
      "cell_type": "markdown",
      "source": [
        "#4. Criando Variáveis Explicativas"
      ],
      "metadata": {
        "id": "-2eipbOG_w2y"
      }
    },
    {
      "cell_type": "markdown",
      "source": [
        "### 4.1 Frequência de Compra:\n",
        "\n",
        "Quantidade de compras que o cliente fez, dividida pelo número de meses desde sua inscrição:"
      ],
      "metadata": {
        "id": "ZykyOqvkGrlj"
      }
    },
    {
      "cell_type": "code",
      "source": [
        "df_freq_compra_mensal = spark.sql(\"\"\"\n",
        "SELECT `ID Cliente`, (COUNT(*) / (p.`Dias desde a Inscrição`/ 30)) as FREQ_COMPRA_MENSAL\n",
        "FROM\n",
        "  df_transacoes as t\n",
        "LEFT JOIN\n",
        "  df_publico as p\n",
        "on\n",
        "  t.`ID Cliente` = p.`ID`\n",
        "\n",
        "GROUP BY t.`ID Cliente`, p.`Dias desde a Inscrição`\n",
        "\n",
        "\"\"\")\n",
        "\n",
        "df_freq_compra_mensal.createOrReplaceTempView('df_freq_compra_mensal')\n",
        "\n",
        "df_freq_compra_mensal.show()"
      ],
      "metadata": {
        "colab": {
          "base_uri": "https://localhost:8080/"
        },
        "id": "yvCtUogcHHD4",
        "outputId": "b45e1757-8fa3-47db-d509-08dcff3a7544"
      },
      "execution_count": 61,
      "outputs": [
        {
          "output_type": "stream",
          "name": "stdout",
          "text": [
            "+----------+--------------------+\n",
            "|ID Cliente|  FREQ_COMPRA_MENSAL|\n",
            "+----------+--------------------+\n",
            "|       594| 0.06569343065693431|\n",
            "|       327|  0.8042895442359249|\n",
            "|       627|  0.1748704663212435|\n",
            "|       692|  2.7127659574468086|\n",
            "|       204| 0.08995502248875561|\n",
            "|       728|  0.6060606060606061|\n",
            "|       361|  0.7090103397341211|\n",
            "|        57| 0.11335012594458439|\n",
            "|       283| 0.22751895991332613|\n",
            "|       615|  1.3255813953488371|\n",
            "|       709|  0.0494641384995878|\n",
            "|       900| 0.07042253521126761|\n",
            "|       926|  0.1868629671574179|\n",
            "|       942|  1.0169491525423728|\n",
            "|        14|0.059721300597213006|\n",
            "|        42|  0.4113924050632911|\n",
            "|       225|  1.5489130434782608|\n",
            "|       330| 0.27892561983471076|\n",
            "|       562| 0.11406844106463877|\n",
            "|       786|  0.4444444444444444|\n",
            "+----------+--------------------+\n",
            "only showing top 20 rows\n",
            "\n"
          ]
        }
      ]
    },
    {
      "cell_type": "markdown",
      "source": [
        "### 4.2 Total Gasto\n",
        "\n",
        "Soma de todos os valores gastos pelo cliente em todas as suas transações"
      ],
      "metadata": {
        "id": "9UplYMcykFBy"
      }
    },
    {
      "cell_type": "code",
      "source": [
        "df_total_gasto = spark.sql(\"\"\"\n",
        "SELECT `ID Cliente`, ROUND(SUM(Valor),2) as VALOR_TOTAL_GASTO\n",
        "FROM df_transacoes\n",
        "GROUP BY `ID Cliente`\n",
        "ORDER BY `VALOR_TOTAL_GASTO` DESC\n",
        "\"\"\")\n",
        "\n",
        "df_total_gasto.createOrReplaceTempView('df_total_gasto')\n",
        "\n",
        "df_total_gasto.show()"
      ],
      "metadata": {
        "id": "QeRjmI5pJTBy",
        "colab": {
          "base_uri": "https://localhost:8080/"
        },
        "outputId": "085e2d72-69b3-47d2-ac34-2e5e56cc1d3f"
      },
      "execution_count": 62,
      "outputs": [
        {
          "output_type": "stream",
          "name": "stdout",
          "text": [
            "+----------+-----------------+\n",
            "|ID Cliente|VALOR_TOTAL_GASTO|\n",
            "+----------+-----------------+\n",
            "|       759|          2498.27|\n",
            "|       910|          2370.01|\n",
            "|       470|          2361.46|\n",
            "|       718|          2347.81|\n",
            "|       983|          2346.24|\n",
            "|       692|          2329.25|\n",
            "|       471|          2307.39|\n",
            "|       407|          2297.79|\n",
            "|       685|          2283.31|\n",
            "|       699|          2278.31|\n",
            "|       668|          2269.66|\n",
            "|       246|          2261.08|\n",
            "|       167|          2255.57|\n",
            "|       162|          2254.72|\n",
            "|       917|          2232.73|\n",
            "|       861|          2229.12|\n",
            "|       480|          2193.45|\n",
            "|       506|          2185.63|\n",
            "|       794|           2185.2|\n",
            "|       630|          2171.44|\n",
            "+----------+-----------------+\n",
            "only showing top 20 rows\n",
            "\n"
          ]
        }
      ]
    },
    {
      "cell_type": "markdown",
      "source": [
        "### 4.3 Categoria Favorita:\n",
        "Categoria de produto em que o cliente gastou a maior quantia\n",
        "\n",
        "1. Primeiro faremos o valor gasto em cada uma das Categorias, por pessoa:"
      ],
      "metadata": {
        "id": "v25uD8rKkKeK"
      }
    },
    {
      "cell_type": "code",
      "source": [
        "df_temp = spark.sql(\"\"\"\n",
        "SELECT `ID Cliente`,\n",
        "    round(sum(case when Categoria = 'Esportes' then Valor else 0 end), 2) as VL_TOT_ESPORTES,\n",
        "    round(sum(case when Categoria = 'Roupas' then Valor else 0 end), 2) as VL_TOT_ROUPAS,\n",
        "    round(sum(case when Categoria = 'Livros' then Valor else 0 end), 2) as VL_TOT_LIVROS,\n",
        "    round(sum(case when Categoria = 'Eletrônicos' then Valor else 0 end), 2) as VL_TOT_ELETRONICOS,\n",
        "    round(sum(case when Categoria = 'Alimentos' then Valor else 0 end), 2) as VL_TOT_ALIMENTOS\n",
        "FROM df_transacoes\n",
        "GROUP BY `ID Cliente`\n",
        "ORDER BY `ID Cliente`\n",
        "\"\"\")\n",
        "df_temp.createOrReplaceTempView(\"df_temp\")"
      ],
      "metadata": {
        "id": "Oq3ZAZX3kQAo"
      },
      "execution_count": 63,
      "outputs": []
    },
    {
      "cell_type": "code",
      "source": [
        "df_temp.show()"
      ],
      "metadata": {
        "colab": {
          "base_uri": "https://localhost:8080/"
        },
        "id": "SZd5Y2Fep46e",
        "outputId": "a9668b21-3e3b-4e38-b98d-a60dd87f2131"
      },
      "execution_count": 64,
      "outputs": [
        {
          "output_type": "stream",
          "name": "stdout",
          "text": [
            "+----------+---------------+-------------+-------------+------------------+----------------+\n",
            "|ID Cliente|VL_TOT_ESPORTES|VL_TOT_ROUPAS|VL_TOT_LIVROS|VL_TOT_ELETRONICOS|VL_TOT_ALIMENTOS|\n",
            "+----------+---------------+-------------+-------------+------------------+----------------+\n",
            "|         1|         226.73|       450.79|       551.06|            396.72|          351.26|\n",
            "|         2|         275.47|          0.0|       340.59|            292.16|          109.58|\n",
            "|         3|         327.09|          0.0|       105.81|            317.38|          247.52|\n",
            "|         4|         199.35|       367.89|        48.18|            291.16|          103.19|\n",
            "|         5|         436.01|       303.13|        16.25|            707.41|          292.37|\n",
            "|         6|         395.05|       499.17|       371.56|            202.33|          373.42|\n",
            "|         7|          137.2|       227.68|       463.88|            572.15|          270.44|\n",
            "|         8|         150.17|       118.38|        69.79|            388.75|          113.95|\n",
            "|         9|         286.48|       229.77|       330.45|               0.0|          172.42|\n",
            "|        10|            0.0|        69.93|        15.92|             144.9|          185.66|\n",
            "|        11|          29.06|       419.34|        70.41|               0.0|          384.31|\n",
            "|        12|            0.0|       181.71|          0.0|            168.55|           39.81|\n",
            "|        13|          55.81|        71.18|       398.88|             96.98|           149.7|\n",
            "|        14|            0.0|        13.86|          0.0|            178.82|             0.0|\n",
            "|        15|            0.0|          0.0|          0.0|            158.84|             0.0|\n",
            "|        16|         372.95|       142.44|       767.07|            153.97|           46.54|\n",
            "|        17|         318.53|       131.42|       291.45|             207.5|           56.55|\n",
            "|        18|            0.0|          0.0|       207.08|               0.0|           77.69|\n",
            "|        19|         220.42|       189.98|       185.42|             194.6|             0.0|\n",
            "|        20|         476.36|        65.73|        71.01|             92.75|          273.51|\n",
            "+----------+---------------+-------------+-------------+------------------+----------------+\n",
            "only showing top 20 rows\n",
            "\n"
          ]
        }
      ]
    },
    {
      "cell_type": "markdown",
      "source": [
        "Agora faremos a comparação entre cada Categoria, para definir qual a categoria favorita. Para isso, faremos:\n",
        "\n",
        "* Transformação das Colunas em Linhas, com o 'UNION ALL':\n",
        "  - Nesse caso, vamos converter valroes de diferentes categorias em linhas separadas para facilitar a comparação\n",
        "\n",
        "* Classificação e Numeração com 'ROW_NUMBER()'\n",
        "  - Objetivo: Atribuir um número de linha a cada categoria por cliente, ordenando pelo valor total gasto"
      ],
      "metadata": {
        "id": "BqfucPejnAS8"
      }
    },
    {
      "cell_type": "code",
      "source": [
        "df_favorita = spark.sql(\"\"\"\n",
        "SELECT `ID Cliente`, Categoria as Categoria_Favorita\n",
        "FROM (\n",
        "    SELECT `ID Cliente`, Categoria, Valor_Total,\n",
        "           ROW_NUMBER() OVER (PARTITION BY `ID Cliente` ORDER BY Valor_Total DESC) as rn\n",
        "    FROM (\n",
        "        SELECT `ID Cliente`, 'Esportes' as Categoria, VL_TOT_ESPORTES as Valor_Total FROM df_temp\n",
        "        UNION ALL\n",
        "        SELECT `ID Cliente`, 'Roupas' as Categoria, VL_TOT_ROUPAS as Valor_Total FROM df_temp\n",
        "        UNION ALL\n",
        "        SELECT `ID Cliente`, 'Livros' as Categoria, VL_TOT_LIVROS as Valor_Total FROM df_temp\n",
        "        UNION ALL\n",
        "        SELECT `ID Cliente`, 'Eletrônicos' as Categoria, VL_TOT_ELETRONICOS as Valor_Total FROM df_temp\n",
        "        UNION ALL\n",
        "        SELECT `ID Cliente`, 'Alimentos' as Categoria, VL_TOT_ALIMENTOS as Valor_Total FROM df_temp\n",
        "    ) t\n",
        ") ranked\n",
        "WHERE rn = 1\n",
        "\"\"\")\n",
        "\n",
        "df_favorita.createOrReplaceTempView('df_favorita')\n",
        "\n",
        "\n",
        "df_favorita.show(truncate=False)\n"
      ],
      "metadata": {
        "colab": {
          "base_uri": "https://localhost:8080/"
        },
        "id": "jKqSQAvEm_tj",
        "outputId": "37fe14e7-2a46-4cab-f0d8-74236b282c86"
      },
      "execution_count": 65,
      "outputs": [
        {
          "output_type": "stream",
          "name": "stdout",
          "text": [
            "+----------+------------------+\n",
            "|ID Cliente|Categoria_Favorita|\n",
            "+----------+------------------+\n",
            "|148       |Alimentos         |\n",
            "|463       |Roupas            |\n",
            "|471       |Roupas            |\n",
            "|496       |Roupas            |\n",
            "|833       |Livros            |\n",
            "|243       |Eletrônicos       |\n",
            "|392       |Roupas            |\n",
            "|540       |Esportes          |\n",
            "|623       |Roupas            |\n",
            "|737       |Eletrônicos       |\n",
            "|858       |Roupas            |\n",
            "|897       |Alimentos         |\n",
            "|31        |Livros            |\n",
            "|516       |Roupas            |\n",
            "|85        |Livros            |\n",
            "|137       |Roupas            |\n",
            "|251       |Esportes          |\n",
            "|451       |Livros            |\n",
            "|580       |Esportes          |\n",
            "|808       |Eletrônicos       |\n",
            "+----------+------------------+\n",
            "only showing top 20 rows\n",
            "\n"
          ]
        }
      ]
    },
    {
      "cell_type": "markdown",
      "source": [
        "###4.4 Gasto Médio por Transação:\n",
        "Toal gasto dividido pelo número total de transações:\n"
      ],
      "metadata": {
        "id": "SbjuREapsQUk"
      }
    },
    {
      "cell_type": "code",
      "source": [
        "df_gasto_medio_tras = spark.sql(\"\"\"\n",
        "SELECT `ID Cliente`,\n",
        "    ROUND(SUM(VALOR) / COUNT(*), 2) as VALOR_TOTAL_POR_TRANS\n",
        "FROM df_transacoes\n",
        "GROUP BY `ID Cliente`\n",
        "\"\"\")\n",
        "\n",
        "df_gasto_medio_tras.createOrReplaceTempView('df_gasto_medio_tras')\n",
        "\n",
        "df_gasto_medio_tras.show()"
      ],
      "metadata": {
        "colab": {
          "base_uri": "https://localhost:8080/"
        },
        "id": "oKg3EgnQsW_s",
        "outputId": "82de2ae1-dd23-420d-eeb1-fe1631846f57"
      },
      "execution_count": 66,
      "outputs": [
        {
          "output_type": "stream",
          "name": "stdout",
          "text": [
            "+----------+---------------------+\n",
            "|ID Cliente|VALOR_TOTAL_POR_TRANS|\n",
            "+----------+---------------------+\n",
            "|       148|                98.22|\n",
            "|       463|                93.29|\n",
            "|       471|               135.73|\n",
            "|       496|                85.31|\n",
            "|       833|               101.95|\n",
            "|       243|                98.88|\n",
            "|       392|                114.6|\n",
            "|       540|                92.87|\n",
            "|       623|                93.95|\n",
            "|       737|               105.95|\n",
            "|       858|                129.1|\n",
            "|       897|                88.58|\n",
            "|        31|               102.14|\n",
            "|       516|               136.59|\n",
            "|        85|                65.46|\n",
            "|       137|               118.51|\n",
            "|       251|                88.28|\n",
            "|       451|                114.2|\n",
            "|       580|               103.75|\n",
            "|       808|               100.19|\n",
            "+----------+---------------------+\n",
            "only showing top 20 rows\n",
            "\n"
          ]
        }
      ]
    },
    {
      "cell_type": "markdown",
      "source": [
        "### 4.6 Número de Categorias Compradas:\n",
        "Quantidade de categorias diferentes das quais o cliente comprou"
      ],
      "metadata": {
        "id": "Gocs0jHpHmmn"
      }
    },
    {
      "cell_type": "code",
      "source": [
        "df_qtd_categorias = spark.sql(\"\"\"\n",
        "\n",
        "SELECT `ID Cliente`, COUNT(*) as QTD_CATEGORIAS_COMPRADAS\n",
        "FROM df_transacoes\n",
        "GROUP BY `ID Cliente`, Categoria\n",
        "\"\"\")\n",
        "\n",
        "df_qtd_categorias.createOrReplaceTempView(\"df_qtd_categorias\")"
      ],
      "metadata": {
        "id": "F7pawmnfHtxA"
      },
      "execution_count": 67,
      "outputs": []
    },
    {
      "cell_type": "code",
      "source": [
        "df_qtd_categorias.show()"
      ],
      "metadata": {
        "colab": {
          "base_uri": "https://localhost:8080/"
        },
        "id": "hTSLxSrwJ07y",
        "outputId": "ee9c32ef-266b-4867-d8c8-4430cebaba3b"
      },
      "execution_count": 68,
      "outputs": [
        {
          "output_type": "stream",
          "name": "stdout",
          "text": [
            "+----------+------------------------+\n",
            "|ID Cliente|QTD_CATEGORIAS_COMPRADAS|\n",
            "+----------+------------------------+\n",
            "|        73|                       2|\n",
            "|        87|                       3|\n",
            "|       130|                       4|\n",
            "|       161|                       1|\n",
            "|       193|                       3|\n",
            "|       235|                       5|\n",
            "|       330|                       4|\n",
            "|       375|                       2|\n",
            "|       386|                       1|\n",
            "|       408|                       4|\n",
            "|       472|                       2|\n",
            "|       610|                       2|\n",
            "|       630|                       5|\n",
            "|       634|                       3|\n",
            "|       682|                       2|\n",
            "|       706|                       2|\n",
            "|       721|                       1|\n",
            "|       849|                       2|\n",
            "|       851|                       5|\n",
            "|       951|                       3|\n",
            "+----------+------------------------+\n",
            "only showing top 20 rows\n",
            "\n"
          ]
        }
      ]
    },
    {
      "cell_type": "markdown",
      "source": [
        "# 5 - Criação de Variáveis Históricas:\n",
        "\n"
      ],
      "metadata": {
        "id": "A06t1ymOpjlA"
      }
    },
    {
      "cell_type": "markdown",
      "source": [
        "### 5.1 Média do Valor Gasto nas categorias nos últimos 3 Meses:\n",
        "Esta variável calcula a média dos gastos do cliente na categoria 'Esportes' nesse período"
      ],
      "metadata": {
        "id": "jJRqH2KPpvAr"
      }
    },
    {
      "cell_type": "code",
      "source": [
        "df_valor_medio_3m = spark.sql(\"\"\"\n",
        "SELECT\n",
        "    `ID Cliente`,\n",
        "    ROUND(AVG(CASE WHEN Categoria = 'Esportes' THEN Valor ELSE NULL END), 2) AS MD_VLR_ESPORTES,\n",
        "    ROUND(AVG(CASE WHEN Categoria = 'Alimentos' THEN Valor ELSE NULL END), 2) AS MD_VLR_ALIMENTOS,\n",
        "    ROUND(AVG(CASE WHEN Categoria = 'Roupas' THEN Valor ELSE NULL END), 2) AS MD_VLR_ROUPAS,\n",
        "    ROUND(AVG(CASE WHEN Categoria = 'Livros' THEN Valor ELSE NULL END), 2) AS MD_VLR_LIVROS,\n",
        "    ROUND(AVG(CASE WHEN Categoria = 'Eletrônicos' THEN Valor ELSE NULL END), 2) AS MD_VLR_ELETRONICOS\n",
        "FROM\n",
        "    df_transacoes\n",
        "WHERE\n",
        "    Data >= DATE_SUB(current_date(), 90)\n",
        "GROUP BY\n",
        "    `ID Cliente`\n",
        "\"\"\")\n",
        "\n",
        "df_valor_medio_3m.createOrReplaceTempView('df_valor_medio_3m')"
      ],
      "metadata": {
        "id": "MRWqk0s_p7pl"
      },
      "execution_count": 69,
      "outputs": []
    },
    {
      "cell_type": "code",
      "source": [
        "df_valor_medio_3m.show()"
      ],
      "metadata": {
        "colab": {
          "base_uri": "https://localhost:8080/"
        },
        "id": "PNVDUF4YrW7o",
        "outputId": "72854404-b192-4e1f-d2bb-396f1793ede4"
      },
      "execution_count": 70,
      "outputs": [
        {
          "output_type": "stream",
          "name": "stdout",
          "text": [
            "+----------+---------------+----------------+-------------+-------------+------------------+\n",
            "|ID Cliente|MD_VLR_ESPORTES|MD_VLR_ALIMENTOS|MD_VLR_ROUPAS|MD_VLR_LIVROS|MD_VLR_ELETRONICOS|\n",
            "+----------+---------------+----------------+-------------+-------------+------------------+\n",
            "|       148|         105.19|           83.42|       139.53|         null|             63.83|\n",
            "|       463|          63.06|            null|        80.97|       156.69|              null|\n",
            "|       471|           null|           86.58|       141.96|         null|              null|\n",
            "|       833|           null|            null|         null|       116.39|              null|\n",
            "|       392|         191.38|          187.32|         null|        54.72|              null|\n",
            "|       540|          59.37|            null|         null|        74.73|              null|\n",
            "|       623|         109.34|            null|         null|         null|              null|\n",
            "|       737|           null|            null|         15.5|         null|              null|\n",
            "|       897|           null|            null|         null|         null|             72.14|\n",
            "|        31|           null|          180.43|         null|       141.59|              null|\n",
            "|        85|         102.22|            34.0|         null|        95.11|             31.89|\n",
            "|       137|           null|            null|        99.79|         null|              null|\n",
            "|       451|           null|            null|         null|       113.78|              null|\n",
            "|       580|           null|           86.46|         null|         null|              null|\n",
            "|       808|         152.78|            null|         null|        71.11|             93.28|\n",
            "|        65|          109.6|            null|         null|        52.66|              null|\n",
            "|       458|           null|           67.93|         null|         null|              null|\n",
            "|       879|           null|            null|         null|         74.1|            121.37|\n",
            "|       883|           null|            null|        75.32|         null|              null|\n",
            "|        53|           null|           63.87|        93.37|         null|              28.9|\n",
            "+----------+---------------+----------------+-------------+-------------+------------------+\n",
            "only showing top 20 rows\n",
            "\n"
          ]
        }
      ]
    },
    {
      "cell_type": "markdown",
      "source": [
        "### 5.2 Média do Valor Gasto nas categorias nos últimos 6 Meses:\n"
      ],
      "metadata": {
        "id": "j-bAov_M3UQp"
      }
    },
    {
      "cell_type": "code",
      "source": [
        "df_valor_medio_6m = spark.sql(\"\"\"\n",
        "SELECT\n",
        "    `ID Cliente`,\n",
        "    ROUND(AVG(CASE WHEN Categoria = 'Esportes' THEN Valor ELSE NULL END), 2) AS MD_VLR_ESPORTES,\n",
        "    ROUND(AVG(CASE WHEN Categoria = 'Alimentos' THEN Valor ELSE NULL END), 2) AS MD_VLR_ALIMENTOS,\n",
        "    ROUND(AVG(CASE WHEN Categoria = 'Roupas' THEN Valor ELSE NULL END), 2) AS MD_VLR_ROUPAS,\n",
        "    ROUND(AVG(CASE WHEN Categoria = 'Livros' THEN Valor ELSE NULL END), 2) AS MD_VLR_LIVROS,\n",
        "    ROUND(AVG(CASE WHEN Categoria = 'Eletrônicos' THEN Valor ELSE NULL END), 2) AS MD_VLR_ELETRONICOS\n",
        "FROM\n",
        "    df_transacoes\n",
        "WHERE\n",
        "    Data >= DATE_SUB(current_date(), 180)\n",
        "GROUP BY\n",
        "    `ID Cliente`\n",
        "\"\"\")\n",
        "\n",
        "df_valor_medio_6m.createOrReplaceTempView('df_valor_medio_6m')"
      ],
      "metadata": {
        "id": "cSG8qWeZ3XXb"
      },
      "execution_count": 71,
      "outputs": []
    },
    {
      "cell_type": "code",
      "source": [
        "df_valor_medio_6m.show()"
      ],
      "metadata": {
        "colab": {
          "base_uri": "https://localhost:8080/"
        },
        "id": "g-j8kddu3bwA",
        "outputId": "be8b7fc6-29a7-44f4-9b1a-7206519ebaad"
      },
      "execution_count": 72,
      "outputs": [
        {
          "output_type": "stream",
          "name": "stdout",
          "text": [
            "+----------+---------------+----------------+-------------+-------------+------------------+\n",
            "|ID Cliente|MD_VLR_ESPORTES|MD_VLR_ALIMENTOS|MD_VLR_ROUPAS|MD_VLR_LIVROS|MD_VLR_ELETRONICOS|\n",
            "+----------+---------------+----------------+-------------+-------------+------------------+\n",
            "|       148|         105.19|          106.55|       139.53|         null|             63.83|\n",
            "|       463|          63.06|            null|        80.97|       156.69|              null|\n",
            "|       471|           null|           86.58|       150.03|         null|              null|\n",
            "|       833|           null|            null|         null|       116.39|            175.14|\n",
            "|       243|           null|            null|         null|         null|            157.53|\n",
            "|       392|         191.38|          187.32|         null|       102.11|              null|\n",
            "|       540|           53.6|            null|         null|        74.73|              null|\n",
            "|       623|         109.34|            null|         null|         null|             27.59|\n",
            "|       737|           null|            null|         15.5|         null|            123.07|\n",
            "|       897|           null|           61.58|         null|         null|             72.14|\n",
            "|        31|           null|          131.33|       142.74|       106.44|              null|\n",
            "|        85|         102.22|            34.0|         null|        99.58|             49.05|\n",
            "|       137|           null|            null|        99.79|         null|            105.83|\n",
            "|       251|         164.34|            null|         null|         null|              null|\n",
            "|       451|           null|            null|        69.65|       119.95|              null|\n",
            "|       580|           null|           87.54|         null|         null|             97.19|\n",
            "|       808|         152.78|            null|         null|        71.11|             93.28|\n",
            "|        65|          109.6|           76.45|         null|        52.66|              null|\n",
            "|       458|           null|           67.93|         null|         null|            152.15|\n",
            "|       879|           null|            null|         null|         74.1|            121.37|\n",
            "+----------+---------------+----------------+-------------+-------------+------------------+\n",
            "only showing top 20 rows\n",
            "\n"
          ]
        }
      ]
    },
    {
      "cell_type": "markdown",
      "source": [
        "### 5.3 Média do Valor Gasto nas categorias nos últimos 9 Meses:"
      ],
      "metadata": {
        "id": "OFf92yvl300_"
      }
    },
    {
      "cell_type": "code",
      "source": [
        "df_valor_medio_9m = spark.sql(\"\"\"\n",
        "SELECT\n",
        "    `ID Cliente`,\n",
        "    ROUND(AVG(CASE WHEN Categoria = 'Esportes' THEN Valor ELSE NULL END), 2) AS MD_VLR_ESPORTES,\n",
        "    ROUND(AVG(CASE WHEN Categoria = 'Alimentos' THEN Valor ELSE NULL END), 2) AS MD_VLR_ALIMENTOS,\n",
        "    ROUND(AVG(CASE WHEN Categoria = 'Roupas' THEN Valor ELSE NULL END), 2) AS MD_VLR_ROUPAS,\n",
        "    ROUND(AVG(CASE WHEN Categoria = 'Livros' THEN Valor ELSE NULL END), 2) AS MD_VLR_LIVROS,\n",
        "    ROUND(AVG(CASE WHEN Categoria = 'Eletrônicos' THEN Valor ELSE NULL END), 2) AS MD_VLR_ELETRONICOS\n",
        "FROM\n",
        "    df_transacoes\n",
        "WHERE\n",
        "    Data >= DATE_SUB(current_date(), 270)\n",
        "GROUP BY\n",
        "    `ID Cliente`\n",
        "\"\"\")\n",
        "\n",
        "df_valor_medio_9m.createOrReplaceTempView('df_valor_medio_9m')"
      ],
      "metadata": {
        "id": "DdXg6brq32yc"
      },
      "execution_count": 73,
      "outputs": []
    },
    {
      "cell_type": "code",
      "source": [
        "df_valor_medio_9m.show()"
      ],
      "metadata": {
        "colab": {
          "base_uri": "https://localhost:8080/"
        },
        "id": "_2hJSRyY360e",
        "outputId": "ba713a3a-b4d7-4314-9e24-a79f82f844cd"
      },
      "execution_count": 74,
      "outputs": [
        {
          "output_type": "stream",
          "name": "stdout",
          "text": [
            "+----------+---------------+----------------+-------------+-------------+------------------+\n",
            "|ID Cliente|MD_VLR_ESPORTES|MD_VLR_ALIMENTOS|MD_VLR_ROUPAS|MD_VLR_LIVROS|MD_VLR_ELETRONICOS|\n",
            "+----------+---------------+----------------+-------------+-------------+------------------+\n",
            "|       148|          91.69|          106.55|       139.53|         null|             63.83|\n",
            "|       463|          63.06|            null|        80.97|       156.69|            142.62|\n",
            "|       471|           null|           86.58|       150.03|         null|            154.98|\n",
            "|       833|           null|            null|         null|       116.39|            175.14|\n",
            "|       243|           null|            null|         null|         null|            117.51|\n",
            "|       392|         191.38|           99.92|       105.96|       102.11|              null|\n",
            "|       540|           53.6|            null|         null|        74.73|            184.29|\n",
            "|       623|         109.34|           70.97|         null|         null|             27.59|\n",
            "|       737|           null|            null|        71.17|         null|            123.07|\n",
            "|       897|           null|           61.58|         21.1|         null|             72.14|\n",
            "|        31|           null|          131.33|       142.74|       106.44|              null|\n",
            "|        85|         102.22|            34.0|         69.0|        99.58|             49.05|\n",
            "|       137|           null|          105.24|       139.83|         null|            105.83|\n",
            "|       251|         164.34|            null|         null|         null|              null|\n",
            "|       451|           null|            null|        69.65|       119.95|              null|\n",
            "|       580|           null|           97.55|        54.57|         null|             97.19|\n",
            "|       808|         152.78|            null|         null|        71.11|             93.28|\n",
            "|        65|          109.6|           76.45|         null|        52.66|            173.91|\n",
            "|       458|         156.86|           67.93|         null|         null|            152.15|\n",
            "|       879|         191.33|            null|         null|         74.1|            121.37|\n",
            "+----------+---------------+----------------+-------------+-------------+------------------+\n",
            "only showing top 20 rows\n",
            "\n"
          ]
        }
      ]
    },
    {
      "cell_type": "code",
      "source": [
        "# Juntar todas as tabelas com variáveis explicativas na tabela final df_geral\n",
        "df_geral = spark.sql(\"\"\"\n",
        "SELECT\n",
        "    p.*,\n",
        "    ROUND(f.FREQ_COMPRA_MENSAL,2) AS FREQ_COMPRA_MENSAL,\n",
        "    tg.VALOR_TOTAL_GASTO,\n",
        "    cf.Categoria_Favorita,\n",
        "    gm.VALOR_TOTAL_POR_TRANS,\n",
        "    vm3.MD_VLR_ESPORTES as MD_VLR_ESPORTES_3M,\n",
        "    vm3.MD_VLR_ALIMENTOS as MD_VLR_ALIMENTOS_3M,\n",
        "    vm3.MD_VLR_ROUPAS as MD_VLR_ROUPAS_3M,\n",
        "    vm3.MD_VLR_LIVROS as MD_VLR_LIVROS_3M,\n",
        "    vm3.MD_VLR_ELETRONICOS as MD_VLR_ELETRONICOS_3M,\n",
        "    vm6.MD_VLR_ESPORTES as MD_VLR_ESPORTES_6M,\n",
        "    vm6.MD_VLR_ALIMENTOS as MD_VLR_ALIMENTOS_6M,\n",
        "    vm6.MD_VLR_ROUPAS as MD_VLR_ROUPAS_6M,\n",
        "    vm6.MD_VLR_LIVROS as MD_VLR_LIVROS_6M,\n",
        "    vm6.MD_VLR_ELETRONICOS as MD_VLR_ELETRONICOS_6M,\n",
        "    vm9.MD_VLR_ESPORTES as MD_VLR_ESPORTES_9M,\n",
        "    vm9.MD_VLR_ALIMENTOS as MD_VLR_ALIMENTOS_9M,\n",
        "    vm9.MD_VLR_ROUPAS as MD_VLR_ROUPAS_9M,\n",
        "    vm9.MD_VLR_LIVROS as MD_VLR_LIVROS_9M,\n",
        "    vm9.MD_VLR_ELETRONICOS as MD_VLR_ELETRONICOS_9M\n",
        "FROM df_publico p\n",
        "LEFT JOIN df_freq_compra_mensal f ON p.ID = f.`ID Cliente`\n",
        "LEFT JOIN df_total_gasto tg ON p.ID = tg.`ID Cliente`\n",
        "LEFT JOIN df_favorita cf ON p.ID = cf.`ID Cliente`\n",
        "LEFT JOIN df_gasto_medio_tras gm ON p.ID = gm.`ID Cliente`\n",
        "LEFT JOIN df_valor_medio_3m vm3 ON p.ID = vm3.`ID Cliente`\n",
        "LEFT JOIN df_valor_medio_6m vm6 ON p.ID = vm6.`ID Cliente`\n",
        "LEFT JOIN df_valor_medio_9m vm9 ON p.ID = vm9.`ID Cliente`\n",
        "\n",
        "ORDER BY ID\n",
        "\"\"\")\n",
        "\n",
        "df_geral.createOrReplaceTempView('df_geral')\n",
        "\n"
      ],
      "metadata": {
        "id": "KBWzgOG26gdR"
      },
      "execution_count": 75,
      "outputs": []
    },
    {
      "cell_type": "code",
      "source": [
        "df_geral.show(10, truncate=True)"
      ],
      "metadata": {
        "colab": {
          "base_uri": "https://localhost:8080/"
        },
        "id": "Vh9VnJBi_Mvg",
        "outputId": "0ef2b37a-7905-4599-a838-c3d3669925f6"
      },
      "execution_count": 76,
      "outputs": [
        {
          "output_type": "stream",
          "name": "stdout",
          "text": [
            "+---+-----+------+----------------------+------------+-------------+-----+------------------+-----------------+------------------+---------------------+------------------+-------------------+----------------+----------------+---------------------+------------------+-------------------+----------------+----------------+---------------------+------------------+-------------------+----------------+----------------+---------------------+\n",
            "| ID|Idade|Gênero|Dias desde a Inscrição|Usou Suporte|        Plano|Churn|FREQ_COMPRA_MENSAL|VALOR_TOTAL_GASTO|Categoria_Favorita|VALOR_TOTAL_POR_TRANS|MD_VLR_ESPORTES_3M|MD_VLR_ALIMENTOS_3M|MD_VLR_ROUPAS_3M|MD_VLR_LIVROS_3M|MD_VLR_ELETRONICOS_3M|MD_VLR_ESPORTES_6M|MD_VLR_ALIMENTOS_6M|MD_VLR_ROUPAS_6M|MD_VLR_LIVROS_6M|MD_VLR_ELETRONICOS_6M|MD_VLR_ESPORTES_9M|MD_VLR_ALIMENTOS_9M|MD_VLR_ROUPAS_9M|MD_VLR_LIVROS_9M|MD_VLR_ELETRONICOS_9M|\n",
            "+---+-----+------+----------------------+------------+-------------+-----+------------------+-----------------+------------------+---------------------+------------------+-------------------+----------------+----------------+---------------------+------------------+-------------------+----------------+----------------+---------------------+------------------+-------------------+----------------+----------------+---------------------+\n",
            "|  1|   21|     F|                  1331|           1|Intermediário|    1|              0.38|          1976.56|            Livros|               116.27|             57.29|             187.82|           66.07|          193.01|               118.45|             57.29|             187.82|           66.07|          193.01|               132.24|             57.29|             187.82|            99.4|          193.01|               132.24|\n",
            "|  2|   21|     M|                  1160|           0|Intermediário|    0|              0.26|           1017.8|            Livros|               101.78|              null|               null|            null|            null|                 null|              null|               null|            null|            null|                 null|              null|               null|            null|            null|                 null|\n",
            "|  3|   62|     M|                   454|           1|       Básico|    0|              0.59|           997.81|          Esportes|               110.87|            164.27|               null|            null|            null|                97.44|            164.27|               null|            null|            null|                135.3|            164.27|               null|            null|            null|               105.79|\n",
            "|  4|   64|     M|                   226|           1|Intermediário|    0|              1.06|          1009.77|            Roupas|               126.22|              null|             103.19|            null|            null|                 null|              null|             103.19|          183.94|            null|                78.72|              null|             103.19|          183.94|            null|                59.87|\n",
            "|  5|   61|     M|                   474|           1|     Avançado|    0|              0.95|          1755.18|       Eletrônicos|               117.01|              null|               null|          150.11|            null|               141.41|            148.03|               null|          150.11|            null|               141.41|            148.03|               null|          150.11|            null|               141.41|\n",
            "|  6|   18|     M|                   419|           0|       Básico|    0|              0.93|          1841.53|            Roupas|               141.66|            127.34|               null|            null|            null|                  8.9|            127.34|               null|            null|            null|                  8.9|            127.34|               null|            null|            null|                  8.9|\n",
            "|  7|   52|     M|                  1334|           0|       Básico|    0|              0.38|          1671.35|       Eletrônicos|                98.31|              null|               null|          103.96|            null|                 null|              68.6|              51.54|          103.96|            null|                 null|              68.6|              51.54|          103.96|            null|                82.49|\n",
            "|  8|   44|     M|                  1124|           1|Intermediário|    0|              0.24|           841.03|       Eletrônicos|                93.45|              null|               null|            null|            null|                85.86|              null|               null|            null|            null|                93.56|            150.17|              22.74|            null|            null|                93.56|\n",
            "|  9|   52|     M|                  1256|           1|Intermediário|    0|              0.26|          1019.13|            Livros|                92.65|              null|              51.77|            null|          165.23|                 null|              null|              51.77|            null|          165.23|                 null|              null|              43.64|            null|          165.23|                 null|\n",
            "| 10|   64|     F|                  1197|           0|       Básico|    0|               0.1|           416.41|         Alimentos|                104.1|              null|               null|            null|            null|                144.9|              null|               null|            null|            null|                144.9|              null|               null|            null|            null|                144.9|\n",
            "+---+-----+------+----------------------+------------+-------------+-----+------------------+-----------------+------------------+---------------------+------------------+-------------------+----------------+----------------+---------------------+------------------+-------------------+----------------+----------------+---------------------+------------------+-------------------+----------------+----------------+---------------------+\n",
            "only showing top 10 rows\n",
            "\n"
          ]
        }
      ]
    },
    {
      "cell_type": "markdown",
      "source": [
        "A tabela final é uma combinação dos dados cadastrais e transacionais dos clientes, projetada para fornecer uma visão abrangente e detalhada do comportamento e perfil dos clientes.\n",
        "\n",
        "Ela vai trazer algumas implicações para o Negócio:\n",
        "* Segmentação de Clientes: A tabela permite uma segmentação detalhada dos clientes, com base em diversas métricas\n",
        "* Personalização de Marketing: Compreender as preferências e o comportamento de compra permite a criação de campanhas de marketing mais personalizadas e eficazes.\n",
        "* Prevenção de Churn: Identificar padrões de comportamento que precedem o churn permite a criação de estratégias proativas de retenção."
      ],
      "metadata": {
        "id": "7gzkAnoa70Dr"
      }
    }
  ]
}